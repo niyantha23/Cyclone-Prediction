{
 "cells": [
  {
   "cell_type": "code",
   "execution_count": 1,
   "metadata": {},
   "outputs": [],
   "source": [
    "import os\n",
    "import numpy as np\n",
    "import pandas as pd\n",
    "from sklearn.model_selection import train_test_split\n",
    "import re\n",
    "import datetime as dt\n",
    "import matplotlib.pyplot as plt"
   ]
  },
  {
   "cell_type": "code",
   "execution_count": 2,
   "metadata": {},
   "outputs": [],
   "source": [
    "data=pd.read_csv('dataset.csv')"
   ]
  },
  {
   "cell_type": "code",
   "execution_count": 3,
   "metadata": {},
   "outputs": [
    {
     "data": {
      "text/html": [
       "<div>\n",
       "<style scoped>\n",
       "    .dataframe tbody tr th:only-of-type {\n",
       "        vertical-align: middle;\n",
       "    }\n",
       "\n",
       "    .dataframe tbody tr th {\n",
       "        vertical-align: top;\n",
       "    }\n",
       "\n",
       "    .dataframe thead th {\n",
       "        text-align: right;\n",
       "    }\n",
       "</style>\n",
       "<table border=\"1\" class=\"dataframe\">\n",
       "  <thead>\n",
       "    <tr style=\"text-align: right;\">\n",
       "      <th></th>\n",
       "      <th>Date</th>\n",
       "      <th>UTC</th>\n",
       "      <th>Status</th>\n",
       "      <th>Latitude</th>\n",
       "      <th>Longitude</th>\n",
       "      <th>MSWS</th>\n",
       "      <th>MinCentralPressure</th>\n",
       "      <th>Column9</th>\n",
       "      <th>Column10</th>\n",
       "      <th>Column11</th>\n",
       "      <th>Column12</th>\n",
       "      <th>Column13</th>\n",
       "      <th>Column14</th>\n",
       "      <th>Column15</th>\n",
       "      <th>Column16</th>\n",
       "      <th>Column17</th>\n",
       "      <th>Column18</th>\n",
       "      <th>Column19</th>\n",
       "      <th>Column20</th>\n",
       "    </tr>\n",
       "  </thead>\n",
       "  <tbody>\n",
       "    <tr>\n",
       "      <th>0</th>\n",
       "      <td>18520826</td>\n",
       "      <td>600</td>\n",
       "      <td>HU</td>\n",
       "      <td>30.2N</td>\n",
       "      <td>88.6W</td>\n",
       "      <td>100</td>\n",
       "      <td>961</td>\n",
       "      <td>-999</td>\n",
       "      <td>-999</td>\n",
       "      <td>-999</td>\n",
       "      <td>-999</td>\n",
       "      <td>-999</td>\n",
       "      <td>-999</td>\n",
       "      <td>-999</td>\n",
       "      <td>-999</td>\n",
       "      <td>-999</td>\n",
       "      <td>-999</td>\n",
       "      <td>-999</td>\n",
       "      <td>-999</td>\n",
       "    </tr>\n",
       "    <tr>\n",
       "      <th>1</th>\n",
       "      <td>18530903</td>\n",
       "      <td>1200</td>\n",
       "      <td>HU</td>\n",
       "      <td>19.7N</td>\n",
       "      <td>56.2W</td>\n",
       "      <td>130</td>\n",
       "      <td>924</td>\n",
       "      <td>-999</td>\n",
       "      <td>-999</td>\n",
       "      <td>-999</td>\n",
       "      <td>-999</td>\n",
       "      <td>-999</td>\n",
       "      <td>-999</td>\n",
       "      <td>-999</td>\n",
       "      <td>-999</td>\n",
       "      <td>-999</td>\n",
       "      <td>-999</td>\n",
       "      <td>-999</td>\n",
       "      <td>-999</td>\n",
       "    </tr>\n",
       "    <tr>\n",
       "      <th>2</th>\n",
       "      <td>18540907</td>\n",
       "      <td>1200</td>\n",
       "      <td>HU</td>\n",
       "      <td>28.0N</td>\n",
       "      <td>78.6W</td>\n",
       "      <td>110</td>\n",
       "      <td>938</td>\n",
       "      <td>-999</td>\n",
       "      <td>-999</td>\n",
       "      <td>-999</td>\n",
       "      <td>-999</td>\n",
       "      <td>-999</td>\n",
       "      <td>-999</td>\n",
       "      <td>-999</td>\n",
       "      <td>-999</td>\n",
       "      <td>-999</td>\n",
       "      <td>-999</td>\n",
       "      <td>-999</td>\n",
       "      <td>-999</td>\n",
       "    </tr>\n",
       "    <tr>\n",
       "      <th>3</th>\n",
       "      <td>18540908</td>\n",
       "      <td>1800</td>\n",
       "      <td>HU</td>\n",
       "      <td>31.6N</td>\n",
       "      <td>81.1W</td>\n",
       "      <td>100</td>\n",
       "      <td>950</td>\n",
       "      <td>-999</td>\n",
       "      <td>-999</td>\n",
       "      <td>-999</td>\n",
       "      <td>-999</td>\n",
       "      <td>-999</td>\n",
       "      <td>-999</td>\n",
       "      <td>-999</td>\n",
       "      <td>-999</td>\n",
       "      <td>-999</td>\n",
       "      <td>-999</td>\n",
       "      <td>-999</td>\n",
       "      <td>-999</td>\n",
       "    </tr>\n",
       "    <tr>\n",
       "      <th>4</th>\n",
       "      <td>18540908</td>\n",
       "      <td>2000</td>\n",
       "      <td>HU</td>\n",
       "      <td>31.7N</td>\n",
       "      <td>81.1W</td>\n",
       "      <td>100</td>\n",
       "      <td>950</td>\n",
       "      <td>-999</td>\n",
       "      <td>-999</td>\n",
       "      <td>-999</td>\n",
       "      <td>-999</td>\n",
       "      <td>-999</td>\n",
       "      <td>-999</td>\n",
       "      <td>-999</td>\n",
       "      <td>-999</td>\n",
       "      <td>-999</td>\n",
       "      <td>-999</td>\n",
       "      <td>-999</td>\n",
       "      <td>-999</td>\n",
       "    </tr>\n",
       "  </tbody>\n",
       "</table>\n",
       "</div>"
      ],
      "text/plain": [
       "       Date   UTC Status Latitude Longitude  MSWS  MinCentralPressure  \\\n",
       "0  18520826   600     HU    30.2N     88.6W   100                 961   \n",
       "1  18530903  1200     HU    19.7N     56.2W   130                 924   \n",
       "2  18540907  1200     HU    28.0N     78.6W   110                 938   \n",
       "3  18540908  1800     HU    31.6N     81.1W   100                 950   \n",
       "4  18540908  2000     HU    31.7N     81.1W   100                 950   \n",
       "\n",
       "   Column9  Column10  Column11  Column12  Column13  Column14  Column15  \\\n",
       "0     -999      -999      -999      -999      -999      -999      -999   \n",
       "1     -999      -999      -999      -999      -999      -999      -999   \n",
       "2     -999      -999      -999      -999      -999      -999      -999   \n",
       "3     -999      -999      -999      -999      -999      -999      -999   \n",
       "4     -999      -999      -999      -999      -999      -999      -999   \n",
       "\n",
       "   Column16  Column17  Column18  Column19  Column20  \n",
       "0      -999      -999      -999      -999      -999  \n",
       "1      -999      -999      -999      -999      -999  \n",
       "2      -999      -999      -999      -999      -999  \n",
       "3      -999      -999      -999      -999      -999  \n",
       "4      -999      -999      -999      -999      -999  "
      ]
     },
     "execution_count": 3,
     "metadata": {},
     "output_type": "execute_result"
    }
   ],
   "source": [
    "data.head()"
   ]
  },
  {
   "cell_type": "code",
   "execution_count": 4,
   "metadata": {},
   "outputs": [
    {
     "data": {
      "text/plain": [
       "38489"
      ]
     },
     "execution_count": 4,
     "metadata": {},
     "output_type": "execute_result"
    }
   ],
   "source": [
    "len(data)"
   ]
  },
  {
   "cell_type": "code",
   "execution_count": 5,
   "metadata": {},
   "outputs": [
    {
     "data": {
      "text/plain": [
       "0        18520826\n",
       "1        18530903\n",
       "2        18540907\n",
       "3        18540908\n",
       "4        18540908\n",
       "           ...   \n",
       "38484    20201120\n",
       "38485    20201120\n",
       "38486    20201120\n",
       "38487    20201120\n",
       "38488    20201121\n",
       "Name: Date, Length: 38489, dtype: int64"
      ]
     },
     "execution_count": 5,
     "metadata": {},
     "output_type": "execute_result"
    }
   ],
   "source": [
    "data['Date']"
   ]
  },
  {
   "cell_type": "code",
   "execution_count": 6,
   "metadata": {},
   "outputs": [],
   "source": [
    "#Converting Date to readable format\n",
    "data['Date']=pd.to_datetime(data['Date'] , format='%Y%m%d')"
   ]
  },
  {
   "cell_type": "code",
   "execution_count": 7,
   "metadata": {},
   "outputs": [
    {
     "data": {
      "text/html": [
       "<div>\n",
       "<style scoped>\n",
       "    .dataframe tbody tr th:only-of-type {\n",
       "        vertical-align: middle;\n",
       "    }\n",
       "\n",
       "    .dataframe tbody tr th {\n",
       "        vertical-align: top;\n",
       "    }\n",
       "\n",
       "    .dataframe thead th {\n",
       "        text-align: right;\n",
       "    }\n",
       "</style>\n",
       "<table border=\"1\" class=\"dataframe\">\n",
       "  <thead>\n",
       "    <tr style=\"text-align: right;\">\n",
       "      <th></th>\n",
       "      <th>Date</th>\n",
       "      <th>UTC</th>\n",
       "      <th>Status</th>\n",
       "      <th>Latitude</th>\n",
       "      <th>Longitude</th>\n",
       "      <th>MSWS</th>\n",
       "      <th>MinCentralPressure</th>\n",
       "      <th>Column9</th>\n",
       "      <th>Column10</th>\n",
       "      <th>Column11</th>\n",
       "      <th>Column12</th>\n",
       "      <th>Column13</th>\n",
       "      <th>Column14</th>\n",
       "      <th>Column15</th>\n",
       "      <th>Column16</th>\n",
       "      <th>Column17</th>\n",
       "      <th>Column18</th>\n",
       "      <th>Column19</th>\n",
       "      <th>Column20</th>\n",
       "    </tr>\n",
       "  </thead>\n",
       "  <tbody>\n",
       "    <tr>\n",
       "      <th>0</th>\n",
       "      <td>1852-08-26</td>\n",
       "      <td>600</td>\n",
       "      <td>HU</td>\n",
       "      <td>30.2N</td>\n",
       "      <td>88.6W</td>\n",
       "      <td>100</td>\n",
       "      <td>961</td>\n",
       "      <td>-999</td>\n",
       "      <td>-999</td>\n",
       "      <td>-999</td>\n",
       "      <td>-999</td>\n",
       "      <td>-999</td>\n",
       "      <td>-999</td>\n",
       "      <td>-999</td>\n",
       "      <td>-999</td>\n",
       "      <td>-999</td>\n",
       "      <td>-999</td>\n",
       "      <td>-999</td>\n",
       "      <td>-999</td>\n",
       "    </tr>\n",
       "    <tr>\n",
       "      <th>1</th>\n",
       "      <td>1853-09-03</td>\n",
       "      <td>1200</td>\n",
       "      <td>HU</td>\n",
       "      <td>19.7N</td>\n",
       "      <td>56.2W</td>\n",
       "      <td>130</td>\n",
       "      <td>924</td>\n",
       "      <td>-999</td>\n",
       "      <td>-999</td>\n",
       "      <td>-999</td>\n",
       "      <td>-999</td>\n",
       "      <td>-999</td>\n",
       "      <td>-999</td>\n",
       "      <td>-999</td>\n",
       "      <td>-999</td>\n",
       "      <td>-999</td>\n",
       "      <td>-999</td>\n",
       "      <td>-999</td>\n",
       "      <td>-999</td>\n",
       "    </tr>\n",
       "    <tr>\n",
       "      <th>2</th>\n",
       "      <td>1854-09-07</td>\n",
       "      <td>1200</td>\n",
       "      <td>HU</td>\n",
       "      <td>28.0N</td>\n",
       "      <td>78.6W</td>\n",
       "      <td>110</td>\n",
       "      <td>938</td>\n",
       "      <td>-999</td>\n",
       "      <td>-999</td>\n",
       "      <td>-999</td>\n",
       "      <td>-999</td>\n",
       "      <td>-999</td>\n",
       "      <td>-999</td>\n",
       "      <td>-999</td>\n",
       "      <td>-999</td>\n",
       "      <td>-999</td>\n",
       "      <td>-999</td>\n",
       "      <td>-999</td>\n",
       "      <td>-999</td>\n",
       "    </tr>\n",
       "    <tr>\n",
       "      <th>3</th>\n",
       "      <td>1854-09-08</td>\n",
       "      <td>1800</td>\n",
       "      <td>HU</td>\n",
       "      <td>31.6N</td>\n",
       "      <td>81.1W</td>\n",
       "      <td>100</td>\n",
       "      <td>950</td>\n",
       "      <td>-999</td>\n",
       "      <td>-999</td>\n",
       "      <td>-999</td>\n",
       "      <td>-999</td>\n",
       "      <td>-999</td>\n",
       "      <td>-999</td>\n",
       "      <td>-999</td>\n",
       "      <td>-999</td>\n",
       "      <td>-999</td>\n",
       "      <td>-999</td>\n",
       "      <td>-999</td>\n",
       "      <td>-999</td>\n",
       "    </tr>\n",
       "    <tr>\n",
       "      <th>4</th>\n",
       "      <td>1854-09-08</td>\n",
       "      <td>2000</td>\n",
       "      <td>HU</td>\n",
       "      <td>31.7N</td>\n",
       "      <td>81.1W</td>\n",
       "      <td>100</td>\n",
       "      <td>950</td>\n",
       "      <td>-999</td>\n",
       "      <td>-999</td>\n",
       "      <td>-999</td>\n",
       "      <td>-999</td>\n",
       "      <td>-999</td>\n",
       "      <td>-999</td>\n",
       "      <td>-999</td>\n",
       "      <td>-999</td>\n",
       "      <td>-999</td>\n",
       "      <td>-999</td>\n",
       "      <td>-999</td>\n",
       "      <td>-999</td>\n",
       "    </tr>\n",
       "  </tbody>\n",
       "</table>\n",
       "</div>"
      ],
      "text/plain": [
       "        Date   UTC Status Latitude Longitude  MSWS  MinCentralPressure  \\\n",
       "0 1852-08-26   600     HU    30.2N     88.6W   100                 961   \n",
       "1 1853-09-03  1200     HU    19.7N     56.2W   130                 924   \n",
       "2 1854-09-07  1200     HU    28.0N     78.6W   110                 938   \n",
       "3 1854-09-08  1800     HU    31.6N     81.1W   100                 950   \n",
       "4 1854-09-08  2000     HU    31.7N     81.1W   100                 950   \n",
       "\n",
       "   Column9  Column10  Column11  Column12  Column13  Column14  Column15  \\\n",
       "0     -999      -999      -999      -999      -999      -999      -999   \n",
       "1     -999      -999      -999      -999      -999      -999      -999   \n",
       "2     -999      -999      -999      -999      -999      -999      -999   \n",
       "3     -999      -999      -999      -999      -999      -999      -999   \n",
       "4     -999      -999      -999      -999      -999      -999      -999   \n",
       "\n",
       "   Column16  Column17  Column18  Column19  Column20  \n",
       "0      -999      -999      -999      -999      -999  \n",
       "1      -999      -999      -999      -999      -999  \n",
       "2      -999      -999      -999      -999      -999  \n",
       "3      -999      -999      -999      -999      -999  \n",
       "4      -999      -999      -999      -999      -999  "
      ]
     },
     "execution_count": 7,
     "metadata": {},
     "output_type": "execute_result"
    }
   ],
   "source": [
    "data.head()"
   ]
  },
  {
   "cell_type": "code",
   "execution_count": 8,
   "metadata": {},
   "outputs": [],
   "source": [
    "#Extracting Year and month from Date"
   ]
  },
  {
   "cell_type": "code",
   "execution_count": 9,
   "metadata": {},
   "outputs": [],
   "source": [
    "data['Year']=data['Date'].apply(lambda date:date.year)\n",
    "data['Month']=data['Date'].apply(lambda date:date.month)\n",
    "data.drop(['Date'],axis=1,inplace=True)"
   ]
  },
  {
   "cell_type": "code",
   "execution_count": 10,
   "metadata": {},
   "outputs": [
    {
     "data": {
      "text/html": [
       "<div>\n",
       "<style scoped>\n",
       "    .dataframe tbody tr th:only-of-type {\n",
       "        vertical-align: middle;\n",
       "    }\n",
       "\n",
       "    .dataframe tbody tr th {\n",
       "        vertical-align: top;\n",
       "    }\n",
       "\n",
       "    .dataframe thead th {\n",
       "        text-align: right;\n",
       "    }\n",
       "</style>\n",
       "<table border=\"1\" class=\"dataframe\">\n",
       "  <thead>\n",
       "    <tr style=\"text-align: right;\">\n",
       "      <th></th>\n",
       "      <th>UTC</th>\n",
       "      <th>Status</th>\n",
       "      <th>Latitude</th>\n",
       "      <th>Longitude</th>\n",
       "      <th>MSWS</th>\n",
       "      <th>MinCentralPressure</th>\n",
       "      <th>Column9</th>\n",
       "      <th>Column10</th>\n",
       "      <th>Column11</th>\n",
       "      <th>Column12</th>\n",
       "      <th>Column13</th>\n",
       "      <th>Column14</th>\n",
       "      <th>Column15</th>\n",
       "      <th>Column16</th>\n",
       "      <th>Column17</th>\n",
       "      <th>Column18</th>\n",
       "      <th>Column19</th>\n",
       "      <th>Column20</th>\n",
       "      <th>Year</th>\n",
       "      <th>Month</th>\n",
       "    </tr>\n",
       "  </thead>\n",
       "  <tbody>\n",
       "    <tr>\n",
       "      <th>0</th>\n",
       "      <td>600</td>\n",
       "      <td>HU</td>\n",
       "      <td>30.2N</td>\n",
       "      <td>88.6W</td>\n",
       "      <td>100</td>\n",
       "      <td>961</td>\n",
       "      <td>-999</td>\n",
       "      <td>-999</td>\n",
       "      <td>-999</td>\n",
       "      <td>-999</td>\n",
       "      <td>-999</td>\n",
       "      <td>-999</td>\n",
       "      <td>-999</td>\n",
       "      <td>-999</td>\n",
       "      <td>-999</td>\n",
       "      <td>-999</td>\n",
       "      <td>-999</td>\n",
       "      <td>-999</td>\n",
       "      <td>1852</td>\n",
       "      <td>8</td>\n",
       "    </tr>\n",
       "    <tr>\n",
       "      <th>1</th>\n",
       "      <td>1200</td>\n",
       "      <td>HU</td>\n",
       "      <td>19.7N</td>\n",
       "      <td>56.2W</td>\n",
       "      <td>130</td>\n",
       "      <td>924</td>\n",
       "      <td>-999</td>\n",
       "      <td>-999</td>\n",
       "      <td>-999</td>\n",
       "      <td>-999</td>\n",
       "      <td>-999</td>\n",
       "      <td>-999</td>\n",
       "      <td>-999</td>\n",
       "      <td>-999</td>\n",
       "      <td>-999</td>\n",
       "      <td>-999</td>\n",
       "      <td>-999</td>\n",
       "      <td>-999</td>\n",
       "      <td>1853</td>\n",
       "      <td>9</td>\n",
       "    </tr>\n",
       "    <tr>\n",
       "      <th>2</th>\n",
       "      <td>1200</td>\n",
       "      <td>HU</td>\n",
       "      <td>28.0N</td>\n",
       "      <td>78.6W</td>\n",
       "      <td>110</td>\n",
       "      <td>938</td>\n",
       "      <td>-999</td>\n",
       "      <td>-999</td>\n",
       "      <td>-999</td>\n",
       "      <td>-999</td>\n",
       "      <td>-999</td>\n",
       "      <td>-999</td>\n",
       "      <td>-999</td>\n",
       "      <td>-999</td>\n",
       "      <td>-999</td>\n",
       "      <td>-999</td>\n",
       "      <td>-999</td>\n",
       "      <td>-999</td>\n",
       "      <td>1854</td>\n",
       "      <td>9</td>\n",
       "    </tr>\n",
       "    <tr>\n",
       "      <th>3</th>\n",
       "      <td>1800</td>\n",
       "      <td>HU</td>\n",
       "      <td>31.6N</td>\n",
       "      <td>81.1W</td>\n",
       "      <td>100</td>\n",
       "      <td>950</td>\n",
       "      <td>-999</td>\n",
       "      <td>-999</td>\n",
       "      <td>-999</td>\n",
       "      <td>-999</td>\n",
       "      <td>-999</td>\n",
       "      <td>-999</td>\n",
       "      <td>-999</td>\n",
       "      <td>-999</td>\n",
       "      <td>-999</td>\n",
       "      <td>-999</td>\n",
       "      <td>-999</td>\n",
       "      <td>-999</td>\n",
       "      <td>1854</td>\n",
       "      <td>9</td>\n",
       "    </tr>\n",
       "    <tr>\n",
       "      <th>4</th>\n",
       "      <td>2000</td>\n",
       "      <td>HU</td>\n",
       "      <td>31.7N</td>\n",
       "      <td>81.1W</td>\n",
       "      <td>100</td>\n",
       "      <td>950</td>\n",
       "      <td>-999</td>\n",
       "      <td>-999</td>\n",
       "      <td>-999</td>\n",
       "      <td>-999</td>\n",
       "      <td>-999</td>\n",
       "      <td>-999</td>\n",
       "      <td>-999</td>\n",
       "      <td>-999</td>\n",
       "      <td>-999</td>\n",
       "      <td>-999</td>\n",
       "      <td>-999</td>\n",
       "      <td>-999</td>\n",
       "      <td>1854</td>\n",
       "      <td>9</td>\n",
       "    </tr>\n",
       "  </tbody>\n",
       "</table>\n",
       "</div>"
      ],
      "text/plain": [
       "    UTC Status Latitude Longitude  MSWS  MinCentralPressure  Column9  \\\n",
       "0   600     HU    30.2N     88.6W   100                 961     -999   \n",
       "1  1200     HU    19.7N     56.2W   130                 924     -999   \n",
       "2  1200     HU    28.0N     78.6W   110                 938     -999   \n",
       "3  1800     HU    31.6N     81.1W   100                 950     -999   \n",
       "4  2000     HU    31.7N     81.1W   100                 950     -999   \n",
       "\n",
       "   Column10  Column11  Column12  Column13  Column14  Column15  Column16  \\\n",
       "0      -999      -999      -999      -999      -999      -999      -999   \n",
       "1      -999      -999      -999      -999      -999      -999      -999   \n",
       "2      -999      -999      -999      -999      -999      -999      -999   \n",
       "3      -999      -999      -999      -999      -999      -999      -999   \n",
       "4      -999      -999      -999      -999      -999      -999      -999   \n",
       "\n",
       "   Column17  Column18  Column19  Column20  Year  Month  \n",
       "0      -999      -999      -999      -999  1852      8  \n",
       "1      -999      -999      -999      -999  1853      9  \n",
       "2      -999      -999      -999      -999  1854      9  \n",
       "3      -999      -999      -999      -999  1854      9  \n",
       "4      -999      -999      -999      -999  1854      9  "
      ]
     },
     "execution_count": 10,
     "metadata": {},
     "output_type": "execute_result"
    }
   ],
   "source": [
    "data.head()"
   ]
  },
  {
   "cell_type": "code",
   "execution_count": 11,
   "metadata": {},
   "outputs": [],
   "source": [
    "#Adding hemisphere column ( N,E- > 0 S,W-> 1)"
   ]
  },
  {
   "cell_type": "code",
   "execution_count": 12,
   "metadata": {},
   "outputs": [],
   "source": [
    "def Convhemisphere(coord):\n",
    "        hemisphere = re.findall(r'[NSWE]' , coord)[0]\n",
    "        if hemisphere == 'N' or hemisphere == 'E':\n",
    "            return 0\n",
    "        else:\n",
    "            return 1"
   ]
  },
  {
   "cell_type": "code",
   "execution_count": 13,
   "metadata": {},
   "outputs": [],
   "source": [
    "data['Latitude_Hemisphere'] = data['Latitude'].apply(Convhemisphere)\n",
    "data['Longitude_Hemisphere'] = data['Longitude'].apply(Convhemisphere)\n",
    "data['Latitude_Hemisphere'] = data['Latitude_Hemisphere'].astype('category')\n",
    "data['Longitude_Hemisphere'] = data['Longitude_Hemisphere'].astype('category')"
   ]
  },
  {
   "cell_type": "code",
   "execution_count": 14,
   "metadata": {},
   "outputs": [
    {
     "data": {
      "text/html": [
       "<div>\n",
       "<style scoped>\n",
       "    .dataframe tbody tr th:only-of-type {\n",
       "        vertical-align: middle;\n",
       "    }\n",
       "\n",
       "    .dataframe tbody tr th {\n",
       "        vertical-align: top;\n",
       "    }\n",
       "\n",
       "    .dataframe thead th {\n",
       "        text-align: right;\n",
       "    }\n",
       "</style>\n",
       "<table border=\"1\" class=\"dataframe\">\n",
       "  <thead>\n",
       "    <tr style=\"text-align: right;\">\n",
       "      <th></th>\n",
       "      <th>UTC</th>\n",
       "      <th>Status</th>\n",
       "      <th>Latitude</th>\n",
       "      <th>Longitude</th>\n",
       "      <th>MSWS</th>\n",
       "      <th>MinCentralPressure</th>\n",
       "      <th>Column9</th>\n",
       "      <th>Column10</th>\n",
       "      <th>Column11</th>\n",
       "      <th>Column12</th>\n",
       "      <th>...</th>\n",
       "      <th>Column15</th>\n",
       "      <th>Column16</th>\n",
       "      <th>Column17</th>\n",
       "      <th>Column18</th>\n",
       "      <th>Column19</th>\n",
       "      <th>Column20</th>\n",
       "      <th>Year</th>\n",
       "      <th>Month</th>\n",
       "      <th>Latitude_Hemisphere</th>\n",
       "      <th>Longitude_Hemisphere</th>\n",
       "    </tr>\n",
       "  </thead>\n",
       "  <tbody>\n",
       "    <tr>\n",
       "      <th>0</th>\n",
       "      <td>600</td>\n",
       "      <td>HU</td>\n",
       "      <td>30.2N</td>\n",
       "      <td>88.6W</td>\n",
       "      <td>100</td>\n",
       "      <td>961</td>\n",
       "      <td>-999</td>\n",
       "      <td>-999</td>\n",
       "      <td>-999</td>\n",
       "      <td>-999</td>\n",
       "      <td>...</td>\n",
       "      <td>-999</td>\n",
       "      <td>-999</td>\n",
       "      <td>-999</td>\n",
       "      <td>-999</td>\n",
       "      <td>-999</td>\n",
       "      <td>-999</td>\n",
       "      <td>1852</td>\n",
       "      <td>8</td>\n",
       "      <td>0</td>\n",
       "      <td>1</td>\n",
       "    </tr>\n",
       "    <tr>\n",
       "      <th>1</th>\n",
       "      <td>1200</td>\n",
       "      <td>HU</td>\n",
       "      <td>19.7N</td>\n",
       "      <td>56.2W</td>\n",
       "      <td>130</td>\n",
       "      <td>924</td>\n",
       "      <td>-999</td>\n",
       "      <td>-999</td>\n",
       "      <td>-999</td>\n",
       "      <td>-999</td>\n",
       "      <td>...</td>\n",
       "      <td>-999</td>\n",
       "      <td>-999</td>\n",
       "      <td>-999</td>\n",
       "      <td>-999</td>\n",
       "      <td>-999</td>\n",
       "      <td>-999</td>\n",
       "      <td>1853</td>\n",
       "      <td>9</td>\n",
       "      <td>0</td>\n",
       "      <td>1</td>\n",
       "    </tr>\n",
       "    <tr>\n",
       "      <th>2</th>\n",
       "      <td>1200</td>\n",
       "      <td>HU</td>\n",
       "      <td>28.0N</td>\n",
       "      <td>78.6W</td>\n",
       "      <td>110</td>\n",
       "      <td>938</td>\n",
       "      <td>-999</td>\n",
       "      <td>-999</td>\n",
       "      <td>-999</td>\n",
       "      <td>-999</td>\n",
       "      <td>...</td>\n",
       "      <td>-999</td>\n",
       "      <td>-999</td>\n",
       "      <td>-999</td>\n",
       "      <td>-999</td>\n",
       "      <td>-999</td>\n",
       "      <td>-999</td>\n",
       "      <td>1854</td>\n",
       "      <td>9</td>\n",
       "      <td>0</td>\n",
       "      <td>1</td>\n",
       "    </tr>\n",
       "    <tr>\n",
       "      <th>3</th>\n",
       "      <td>1800</td>\n",
       "      <td>HU</td>\n",
       "      <td>31.6N</td>\n",
       "      <td>81.1W</td>\n",
       "      <td>100</td>\n",
       "      <td>950</td>\n",
       "      <td>-999</td>\n",
       "      <td>-999</td>\n",
       "      <td>-999</td>\n",
       "      <td>-999</td>\n",
       "      <td>...</td>\n",
       "      <td>-999</td>\n",
       "      <td>-999</td>\n",
       "      <td>-999</td>\n",
       "      <td>-999</td>\n",
       "      <td>-999</td>\n",
       "      <td>-999</td>\n",
       "      <td>1854</td>\n",
       "      <td>9</td>\n",
       "      <td>0</td>\n",
       "      <td>1</td>\n",
       "    </tr>\n",
       "    <tr>\n",
       "      <th>4</th>\n",
       "      <td>2000</td>\n",
       "      <td>HU</td>\n",
       "      <td>31.7N</td>\n",
       "      <td>81.1W</td>\n",
       "      <td>100</td>\n",
       "      <td>950</td>\n",
       "      <td>-999</td>\n",
       "      <td>-999</td>\n",
       "      <td>-999</td>\n",
       "      <td>-999</td>\n",
       "      <td>...</td>\n",
       "      <td>-999</td>\n",
       "      <td>-999</td>\n",
       "      <td>-999</td>\n",
       "      <td>-999</td>\n",
       "      <td>-999</td>\n",
       "      <td>-999</td>\n",
       "      <td>1854</td>\n",
       "      <td>9</td>\n",
       "      <td>0</td>\n",
       "      <td>1</td>\n",
       "    </tr>\n",
       "  </tbody>\n",
       "</table>\n",
       "<p>5 rows × 22 columns</p>\n",
       "</div>"
      ],
      "text/plain": [
       "    UTC Status Latitude Longitude  MSWS  MinCentralPressure  Column9  \\\n",
       "0   600     HU    30.2N     88.6W   100                 961     -999   \n",
       "1  1200     HU    19.7N     56.2W   130                 924     -999   \n",
       "2  1200     HU    28.0N     78.6W   110                 938     -999   \n",
       "3  1800     HU    31.6N     81.1W   100                 950     -999   \n",
       "4  2000     HU    31.7N     81.1W   100                 950     -999   \n",
       "\n",
       "   Column10  Column11  Column12  ...  Column15  Column16  Column17  Column18  \\\n",
       "0      -999      -999      -999  ...      -999      -999      -999      -999   \n",
       "1      -999      -999      -999  ...      -999      -999      -999      -999   \n",
       "2      -999      -999      -999  ...      -999      -999      -999      -999   \n",
       "3      -999      -999      -999  ...      -999      -999      -999      -999   \n",
       "4      -999      -999      -999  ...      -999      -999      -999      -999   \n",
       "\n",
       "   Column19  Column20  Year  Month  Latitude_Hemisphere  Longitude_Hemisphere  \n",
       "0      -999      -999  1852      8                    0                     1  \n",
       "1      -999      -999  1853      9                    0                     1  \n",
       "2      -999      -999  1854      9                    0                     1  \n",
       "3      -999      -999  1854      9                    0                     1  \n",
       "4      -999      -999  1854      9                    0                     1  \n",
       "\n",
       "[5 rows x 22 columns]"
      ]
     },
     "execution_count": 14,
     "metadata": {},
     "output_type": "execute_result"
    }
   ],
   "source": [
    "data.head()"
   ]
  },
  {
   "cell_type": "code",
   "execution_count": 15,
   "metadata": {},
   "outputs": [],
   "source": [
    "#Converting Latitude to numerical type"
   ]
  },
  {
   "cell_type": "code",
   "execution_count": 16,
   "metadata": {},
   "outputs": [],
   "source": [
    "def ConvNum(coord):\n",
    "        num = coord.translate({ ord(c): None for c in \"NSEW\" })\n",
    "        return num"
   ]
  },
  {
   "cell_type": "code",
   "execution_count": 17,
   "metadata": {},
   "outputs": [
    {
     "data": {
      "text/plain": [
       "' 42.5'"
      ]
     },
     "execution_count": 17,
     "metadata": {},
     "output_type": "execute_result"
    }
   ],
   "source": [
    "ConvNum(data['Latitude'][10])"
   ]
  },
  {
   "cell_type": "code",
   "execution_count": 18,
   "metadata": {},
   "outputs": [
    {
     "data": {
      "text/plain": [
       "' 42.5'"
      ]
     },
     "execution_count": 18,
     "metadata": {},
     "output_type": "execute_result"
    }
   ],
   "source": [
    "data['Latitude'][10].translate({ ord(c): None for c in \"NS\" })"
   ]
  },
  {
   "cell_type": "code",
   "execution_count": null,
   "metadata": {},
   "outputs": [],
   "source": []
  },
  {
   "cell_type": "code",
   "execution_count": 19,
   "metadata": {},
   "outputs": [],
   "source": [
    "data['Latitude_num'] =  data['Latitude'].apply(ConvNum)\n",
    "data['Longitude_num'] =   data['Longitude'].apply(ConvNum)"
   ]
  },
  {
   "cell_type": "code",
   "execution_count": 20,
   "metadata": {},
   "outputs": [
    {
     "data": {
      "text/html": [
       "<div>\n",
       "<style scoped>\n",
       "    .dataframe tbody tr th:only-of-type {\n",
       "        vertical-align: middle;\n",
       "    }\n",
       "\n",
       "    .dataframe tbody tr th {\n",
       "        vertical-align: top;\n",
       "    }\n",
       "\n",
       "    .dataframe thead th {\n",
       "        text-align: right;\n",
       "    }\n",
       "</style>\n",
       "<table border=\"1\" class=\"dataframe\">\n",
       "  <thead>\n",
       "    <tr style=\"text-align: right;\">\n",
       "      <th></th>\n",
       "      <th>UTC</th>\n",
       "      <th>Status</th>\n",
       "      <th>Latitude</th>\n",
       "      <th>Longitude</th>\n",
       "      <th>MSWS</th>\n",
       "      <th>MinCentralPressure</th>\n",
       "      <th>Column9</th>\n",
       "      <th>Column10</th>\n",
       "      <th>Column11</th>\n",
       "      <th>Column12</th>\n",
       "      <th>...</th>\n",
       "      <th>Column17</th>\n",
       "      <th>Column18</th>\n",
       "      <th>Column19</th>\n",
       "      <th>Column20</th>\n",
       "      <th>Year</th>\n",
       "      <th>Month</th>\n",
       "      <th>Latitude_Hemisphere</th>\n",
       "      <th>Longitude_Hemisphere</th>\n",
       "      <th>Latitude_num</th>\n",
       "      <th>Longitude_num</th>\n",
       "    </tr>\n",
       "  </thead>\n",
       "  <tbody>\n",
       "    <tr>\n",
       "      <th>0</th>\n",
       "      <td>600</td>\n",
       "      <td>HU</td>\n",
       "      <td>30.2N</td>\n",
       "      <td>88.6W</td>\n",
       "      <td>100</td>\n",
       "      <td>961</td>\n",
       "      <td>-999</td>\n",
       "      <td>-999</td>\n",
       "      <td>-999</td>\n",
       "      <td>-999</td>\n",
       "      <td>...</td>\n",
       "      <td>-999</td>\n",
       "      <td>-999</td>\n",
       "      <td>-999</td>\n",
       "      <td>-999</td>\n",
       "      <td>1852</td>\n",
       "      <td>8</td>\n",
       "      <td>0</td>\n",
       "      <td>1</td>\n",
       "      <td>30.2</td>\n",
       "      <td>88.6</td>\n",
       "    </tr>\n",
       "    <tr>\n",
       "      <th>1</th>\n",
       "      <td>1200</td>\n",
       "      <td>HU</td>\n",
       "      <td>19.7N</td>\n",
       "      <td>56.2W</td>\n",
       "      <td>130</td>\n",
       "      <td>924</td>\n",
       "      <td>-999</td>\n",
       "      <td>-999</td>\n",
       "      <td>-999</td>\n",
       "      <td>-999</td>\n",
       "      <td>...</td>\n",
       "      <td>-999</td>\n",
       "      <td>-999</td>\n",
       "      <td>-999</td>\n",
       "      <td>-999</td>\n",
       "      <td>1853</td>\n",
       "      <td>9</td>\n",
       "      <td>0</td>\n",
       "      <td>1</td>\n",
       "      <td>19.7</td>\n",
       "      <td>56.2</td>\n",
       "    </tr>\n",
       "    <tr>\n",
       "      <th>2</th>\n",
       "      <td>1200</td>\n",
       "      <td>HU</td>\n",
       "      <td>28.0N</td>\n",
       "      <td>78.6W</td>\n",
       "      <td>110</td>\n",
       "      <td>938</td>\n",
       "      <td>-999</td>\n",
       "      <td>-999</td>\n",
       "      <td>-999</td>\n",
       "      <td>-999</td>\n",
       "      <td>...</td>\n",
       "      <td>-999</td>\n",
       "      <td>-999</td>\n",
       "      <td>-999</td>\n",
       "      <td>-999</td>\n",
       "      <td>1854</td>\n",
       "      <td>9</td>\n",
       "      <td>0</td>\n",
       "      <td>1</td>\n",
       "      <td>28.0</td>\n",
       "      <td>78.6</td>\n",
       "    </tr>\n",
       "    <tr>\n",
       "      <th>3</th>\n",
       "      <td>1800</td>\n",
       "      <td>HU</td>\n",
       "      <td>31.6N</td>\n",
       "      <td>81.1W</td>\n",
       "      <td>100</td>\n",
       "      <td>950</td>\n",
       "      <td>-999</td>\n",
       "      <td>-999</td>\n",
       "      <td>-999</td>\n",
       "      <td>-999</td>\n",
       "      <td>...</td>\n",
       "      <td>-999</td>\n",
       "      <td>-999</td>\n",
       "      <td>-999</td>\n",
       "      <td>-999</td>\n",
       "      <td>1854</td>\n",
       "      <td>9</td>\n",
       "      <td>0</td>\n",
       "      <td>1</td>\n",
       "      <td>31.6</td>\n",
       "      <td>81.1</td>\n",
       "    </tr>\n",
       "    <tr>\n",
       "      <th>4</th>\n",
       "      <td>2000</td>\n",
       "      <td>HU</td>\n",
       "      <td>31.7N</td>\n",
       "      <td>81.1W</td>\n",
       "      <td>100</td>\n",
       "      <td>950</td>\n",
       "      <td>-999</td>\n",
       "      <td>-999</td>\n",
       "      <td>-999</td>\n",
       "      <td>-999</td>\n",
       "      <td>...</td>\n",
       "      <td>-999</td>\n",
       "      <td>-999</td>\n",
       "      <td>-999</td>\n",
       "      <td>-999</td>\n",
       "      <td>1854</td>\n",
       "      <td>9</td>\n",
       "      <td>0</td>\n",
       "      <td>1</td>\n",
       "      <td>31.7</td>\n",
       "      <td>81.1</td>\n",
       "    </tr>\n",
       "  </tbody>\n",
       "</table>\n",
       "<p>5 rows × 24 columns</p>\n",
       "</div>"
      ],
      "text/plain": [
       "    UTC Status Latitude Longitude  MSWS  MinCentralPressure  Column9  \\\n",
       "0   600     HU    30.2N     88.6W   100                 961     -999   \n",
       "1  1200     HU    19.7N     56.2W   130                 924     -999   \n",
       "2  1200     HU    28.0N     78.6W   110                 938     -999   \n",
       "3  1800     HU    31.6N     81.1W   100                 950     -999   \n",
       "4  2000     HU    31.7N     81.1W   100                 950     -999   \n",
       "\n",
       "   Column10  Column11  Column12  ...  Column17  Column18  Column19  Column20  \\\n",
       "0      -999      -999      -999  ...      -999      -999      -999      -999   \n",
       "1      -999      -999      -999  ...      -999      -999      -999      -999   \n",
       "2      -999      -999      -999  ...      -999      -999      -999      -999   \n",
       "3      -999      -999      -999  ...      -999      -999      -999      -999   \n",
       "4      -999      -999      -999  ...      -999      -999      -999      -999   \n",
       "\n",
       "   Year  Month  Latitude_Hemisphere  Longitude_Hemisphere  Latitude_num  \\\n",
       "0  1852      8                    0                     1          30.2   \n",
       "1  1853      9                    0                     1          19.7   \n",
       "2  1854      9                    0                     1          28.0   \n",
       "3  1854      9                    0                     1          31.6   \n",
       "4  1854      9                    0                     1          31.7   \n",
       "\n",
       "   Longitude_num  \n",
       "0           88.6  \n",
       "1           56.2  \n",
       "2           78.6  \n",
       "3           81.1  \n",
       "4           81.1  \n",
       "\n",
       "[5 rows x 24 columns]"
      ]
     },
     "execution_count": 20,
     "metadata": {},
     "output_type": "execute_result"
    }
   ],
   "source": [
    "data.head()"
   ]
  },
  {
   "cell_type": "code",
   "execution_count": 21,
   "metadata": {},
   "outputs": [],
   "source": [
    "#Dropping latitude and longitude"
   ]
  },
  {
   "cell_type": "code",
   "execution_count": 22,
   "metadata": {},
   "outputs": [],
   "source": [
    "data.drop(['Latitude','Longitude'],axis=1,inplace=True)"
   ]
  },
  {
   "cell_type": "code",
   "execution_count": 23,
   "metadata": {},
   "outputs": [
    {
     "data": {
      "text/html": [
       "<div>\n",
       "<style scoped>\n",
       "    .dataframe tbody tr th:only-of-type {\n",
       "        vertical-align: middle;\n",
       "    }\n",
       "\n",
       "    .dataframe tbody tr th {\n",
       "        vertical-align: top;\n",
       "    }\n",
       "\n",
       "    .dataframe thead th {\n",
       "        text-align: right;\n",
       "    }\n",
       "</style>\n",
       "<table border=\"1\" class=\"dataframe\">\n",
       "  <thead>\n",
       "    <tr style=\"text-align: right;\">\n",
       "      <th></th>\n",
       "      <th>UTC</th>\n",
       "      <th>Status</th>\n",
       "      <th>MSWS</th>\n",
       "      <th>MinCentralPressure</th>\n",
       "      <th>Column9</th>\n",
       "      <th>Column10</th>\n",
       "      <th>Column11</th>\n",
       "      <th>Column12</th>\n",
       "      <th>Column13</th>\n",
       "      <th>Column14</th>\n",
       "      <th>...</th>\n",
       "      <th>Column17</th>\n",
       "      <th>Column18</th>\n",
       "      <th>Column19</th>\n",
       "      <th>Column20</th>\n",
       "      <th>Year</th>\n",
       "      <th>Month</th>\n",
       "      <th>Latitude_Hemisphere</th>\n",
       "      <th>Longitude_Hemisphere</th>\n",
       "      <th>Latitude_num</th>\n",
       "      <th>Longitude_num</th>\n",
       "    </tr>\n",
       "  </thead>\n",
       "  <tbody>\n",
       "    <tr>\n",
       "      <th>0</th>\n",
       "      <td>600</td>\n",
       "      <td>HU</td>\n",
       "      <td>100</td>\n",
       "      <td>961</td>\n",
       "      <td>-999</td>\n",
       "      <td>-999</td>\n",
       "      <td>-999</td>\n",
       "      <td>-999</td>\n",
       "      <td>-999</td>\n",
       "      <td>-999</td>\n",
       "      <td>...</td>\n",
       "      <td>-999</td>\n",
       "      <td>-999</td>\n",
       "      <td>-999</td>\n",
       "      <td>-999</td>\n",
       "      <td>1852</td>\n",
       "      <td>8</td>\n",
       "      <td>0</td>\n",
       "      <td>1</td>\n",
       "      <td>30.2</td>\n",
       "      <td>88.6</td>\n",
       "    </tr>\n",
       "    <tr>\n",
       "      <th>1</th>\n",
       "      <td>1200</td>\n",
       "      <td>HU</td>\n",
       "      <td>130</td>\n",
       "      <td>924</td>\n",
       "      <td>-999</td>\n",
       "      <td>-999</td>\n",
       "      <td>-999</td>\n",
       "      <td>-999</td>\n",
       "      <td>-999</td>\n",
       "      <td>-999</td>\n",
       "      <td>...</td>\n",
       "      <td>-999</td>\n",
       "      <td>-999</td>\n",
       "      <td>-999</td>\n",
       "      <td>-999</td>\n",
       "      <td>1853</td>\n",
       "      <td>9</td>\n",
       "      <td>0</td>\n",
       "      <td>1</td>\n",
       "      <td>19.7</td>\n",
       "      <td>56.2</td>\n",
       "    </tr>\n",
       "    <tr>\n",
       "      <th>2</th>\n",
       "      <td>1200</td>\n",
       "      <td>HU</td>\n",
       "      <td>110</td>\n",
       "      <td>938</td>\n",
       "      <td>-999</td>\n",
       "      <td>-999</td>\n",
       "      <td>-999</td>\n",
       "      <td>-999</td>\n",
       "      <td>-999</td>\n",
       "      <td>-999</td>\n",
       "      <td>...</td>\n",
       "      <td>-999</td>\n",
       "      <td>-999</td>\n",
       "      <td>-999</td>\n",
       "      <td>-999</td>\n",
       "      <td>1854</td>\n",
       "      <td>9</td>\n",
       "      <td>0</td>\n",
       "      <td>1</td>\n",
       "      <td>28.0</td>\n",
       "      <td>78.6</td>\n",
       "    </tr>\n",
       "    <tr>\n",
       "      <th>3</th>\n",
       "      <td>1800</td>\n",
       "      <td>HU</td>\n",
       "      <td>100</td>\n",
       "      <td>950</td>\n",
       "      <td>-999</td>\n",
       "      <td>-999</td>\n",
       "      <td>-999</td>\n",
       "      <td>-999</td>\n",
       "      <td>-999</td>\n",
       "      <td>-999</td>\n",
       "      <td>...</td>\n",
       "      <td>-999</td>\n",
       "      <td>-999</td>\n",
       "      <td>-999</td>\n",
       "      <td>-999</td>\n",
       "      <td>1854</td>\n",
       "      <td>9</td>\n",
       "      <td>0</td>\n",
       "      <td>1</td>\n",
       "      <td>31.6</td>\n",
       "      <td>81.1</td>\n",
       "    </tr>\n",
       "    <tr>\n",
       "      <th>4</th>\n",
       "      <td>2000</td>\n",
       "      <td>HU</td>\n",
       "      <td>100</td>\n",
       "      <td>950</td>\n",
       "      <td>-999</td>\n",
       "      <td>-999</td>\n",
       "      <td>-999</td>\n",
       "      <td>-999</td>\n",
       "      <td>-999</td>\n",
       "      <td>-999</td>\n",
       "      <td>...</td>\n",
       "      <td>-999</td>\n",
       "      <td>-999</td>\n",
       "      <td>-999</td>\n",
       "      <td>-999</td>\n",
       "      <td>1854</td>\n",
       "      <td>9</td>\n",
       "      <td>0</td>\n",
       "      <td>1</td>\n",
       "      <td>31.7</td>\n",
       "      <td>81.1</td>\n",
       "    </tr>\n",
       "  </tbody>\n",
       "</table>\n",
       "<p>5 rows × 22 columns</p>\n",
       "</div>"
      ],
      "text/plain": [
       "    UTC Status  MSWS  MinCentralPressure  Column9  Column10  Column11  \\\n",
       "0   600     HU   100                 961     -999      -999      -999   \n",
       "1  1200     HU   130                 924     -999      -999      -999   \n",
       "2  1200     HU   110                 938     -999      -999      -999   \n",
       "3  1800     HU   100                 950     -999      -999      -999   \n",
       "4  2000     HU   100                 950     -999      -999      -999   \n",
       "\n",
       "   Column12  Column13  Column14  ...  Column17  Column18  Column19  Column20  \\\n",
       "0      -999      -999      -999  ...      -999      -999      -999      -999   \n",
       "1      -999      -999      -999  ...      -999      -999      -999      -999   \n",
       "2      -999      -999      -999  ...      -999      -999      -999      -999   \n",
       "3      -999      -999      -999  ...      -999      -999      -999      -999   \n",
       "4      -999      -999      -999  ...      -999      -999      -999      -999   \n",
       "\n",
       "   Year  Month  Latitude_Hemisphere  Longitude_Hemisphere Latitude_num  \\\n",
       "0  1852      8                    0                     1         30.2   \n",
       "1  1853      9                    0                     1         19.7   \n",
       "2  1854      9                    0                     1         28.0   \n",
       "3  1854      9                    0                     1         31.6   \n",
       "4  1854      9                    0                     1         31.7   \n",
       "\n",
       "  Longitude_num  \n",
       "0          88.6  \n",
       "1          56.2  \n",
       "2          78.6  \n",
       "3          81.1  \n",
       "4          81.1  \n",
       "\n",
       "[5 rows x 22 columns]"
      ]
     },
     "execution_count": 23,
     "metadata": {},
     "output_type": "execute_result"
    }
   ],
   "source": [
    "data.head()"
   ]
  },
  {
   "cell_type": "code",
   "execution_count": 24,
   "metadata": {},
   "outputs": [],
   "source": [
    "#Dropping columns with null"
   ]
  },
  {
   "cell_type": "code",
   "execution_count": 27,
   "metadata": {},
   "outputs": [],
   "source": [
    "drop=['Column9','Column10','Column11','Column12','Column13','Column14','Column15','Column16','Column17','Column18','Column19','Column20']"
   ]
  },
  {
   "cell_type": "code",
   "execution_count": 28,
   "metadata": {},
   "outputs": [],
   "source": [
    "data.drop(drop,axis=1,inplace=True)"
   ]
  },
  {
   "cell_type": "code",
   "execution_count": 29,
   "metadata": {},
   "outputs": [
    {
     "data": {
      "text/html": [
       "<div>\n",
       "<style scoped>\n",
       "    .dataframe tbody tr th:only-of-type {\n",
       "        vertical-align: middle;\n",
       "    }\n",
       "\n",
       "    .dataframe tbody tr th {\n",
       "        vertical-align: top;\n",
       "    }\n",
       "\n",
       "    .dataframe thead th {\n",
       "        text-align: right;\n",
       "    }\n",
       "</style>\n",
       "<table border=\"1\" class=\"dataframe\">\n",
       "  <thead>\n",
       "    <tr style=\"text-align: right;\">\n",
       "      <th></th>\n",
       "      <th>UTC</th>\n",
       "      <th>Status</th>\n",
       "      <th>MSWS</th>\n",
       "      <th>MinCentralPressure</th>\n",
       "      <th>Year</th>\n",
       "      <th>Month</th>\n",
       "      <th>Latitude_Hemisphere</th>\n",
       "      <th>Longitude_Hemisphere</th>\n",
       "      <th>Latitude_num</th>\n",
       "      <th>Longitude_num</th>\n",
       "    </tr>\n",
       "  </thead>\n",
       "  <tbody>\n",
       "    <tr>\n",
       "      <th>0</th>\n",
       "      <td>600</td>\n",
       "      <td>HU</td>\n",
       "      <td>100</td>\n",
       "      <td>961</td>\n",
       "      <td>1852</td>\n",
       "      <td>8</td>\n",
       "      <td>0</td>\n",
       "      <td>1</td>\n",
       "      <td>30.2</td>\n",
       "      <td>88.6</td>\n",
       "    </tr>\n",
       "    <tr>\n",
       "      <th>1</th>\n",
       "      <td>1200</td>\n",
       "      <td>HU</td>\n",
       "      <td>130</td>\n",
       "      <td>924</td>\n",
       "      <td>1853</td>\n",
       "      <td>9</td>\n",
       "      <td>0</td>\n",
       "      <td>1</td>\n",
       "      <td>19.7</td>\n",
       "      <td>56.2</td>\n",
       "    </tr>\n",
       "    <tr>\n",
       "      <th>2</th>\n",
       "      <td>1200</td>\n",
       "      <td>HU</td>\n",
       "      <td>110</td>\n",
       "      <td>938</td>\n",
       "      <td>1854</td>\n",
       "      <td>9</td>\n",
       "      <td>0</td>\n",
       "      <td>1</td>\n",
       "      <td>28.0</td>\n",
       "      <td>78.6</td>\n",
       "    </tr>\n",
       "    <tr>\n",
       "      <th>3</th>\n",
       "      <td>1800</td>\n",
       "      <td>HU</td>\n",
       "      <td>100</td>\n",
       "      <td>950</td>\n",
       "      <td>1854</td>\n",
       "      <td>9</td>\n",
       "      <td>0</td>\n",
       "      <td>1</td>\n",
       "      <td>31.6</td>\n",
       "      <td>81.1</td>\n",
       "    </tr>\n",
       "    <tr>\n",
       "      <th>4</th>\n",
       "      <td>2000</td>\n",
       "      <td>HU</td>\n",
       "      <td>100</td>\n",
       "      <td>950</td>\n",
       "      <td>1854</td>\n",
       "      <td>9</td>\n",
       "      <td>0</td>\n",
       "      <td>1</td>\n",
       "      <td>31.7</td>\n",
       "      <td>81.1</td>\n",
       "    </tr>\n",
       "  </tbody>\n",
       "</table>\n",
       "</div>"
      ],
      "text/plain": [
       "    UTC Status  MSWS  MinCentralPressure  Year  Month Latitude_Hemisphere  \\\n",
       "0   600     HU   100                 961  1852      8                   0   \n",
       "1  1200     HU   130                 924  1853      9                   0   \n",
       "2  1200     HU   110                 938  1854      9                   0   \n",
       "3  1800     HU   100                 950  1854      9                   0   \n",
       "4  2000     HU   100                 950  1854      9                   0   \n",
       "\n",
       "  Longitude_Hemisphere Latitude_num Longitude_num  \n",
       "0                    1         30.2          88.6  \n",
       "1                    1         19.7          56.2  \n",
       "2                    1         28.0          78.6  \n",
       "3                    1         31.6          81.1  \n",
       "4                    1         31.7          81.1  "
      ]
     },
     "execution_count": 29,
     "metadata": {},
     "output_type": "execute_result"
    }
   ],
   "source": [
    "data.head()"
   ]
  },
  {
   "cell_type": "code",
   "execution_count": 30,
   "metadata": {},
   "outputs": [
    {
     "data": {
      "text/plain": [
       "38489"
      ]
     },
     "execution_count": 30,
     "metadata": {},
     "output_type": "execute_result"
    }
   ],
   "source": [
    "len(data)"
   ]
  },
  {
   "cell_type": "code",
   "execution_count": 31,
   "metadata": {},
   "outputs": [],
   "source": [
    "data_dup=data.copy()"
   ]
  },
  {
   "cell_type": "code",
   "execution_count": 32,
   "metadata": {},
   "outputs": [
    {
     "data": {
      "text/html": [
       "<div>\n",
       "<style scoped>\n",
       "    .dataframe tbody tr th:only-of-type {\n",
       "        vertical-align: middle;\n",
       "    }\n",
       "\n",
       "    .dataframe tbody tr th {\n",
       "        vertical-align: top;\n",
       "    }\n",
       "\n",
       "    .dataframe thead th {\n",
       "        text-align: right;\n",
       "    }\n",
       "</style>\n",
       "<table border=\"1\" class=\"dataframe\">\n",
       "  <thead>\n",
       "    <tr style=\"text-align: right;\">\n",
       "      <th></th>\n",
       "      <th>UTC</th>\n",
       "      <th>Status</th>\n",
       "      <th>MSWS</th>\n",
       "      <th>MinCentralPressure</th>\n",
       "      <th>Year</th>\n",
       "      <th>Month</th>\n",
       "      <th>Latitude_Hemisphere</th>\n",
       "      <th>Longitude_Hemisphere</th>\n",
       "      <th>Latitude_num</th>\n",
       "      <th>Longitude_num</th>\n",
       "    </tr>\n",
       "  </thead>\n",
       "  <tbody>\n",
       "    <tr>\n",
       "      <th>0</th>\n",
       "      <td>600</td>\n",
       "      <td>HU</td>\n",
       "      <td>100</td>\n",
       "      <td>961</td>\n",
       "      <td>1852</td>\n",
       "      <td>8</td>\n",
       "      <td>0</td>\n",
       "      <td>1</td>\n",
       "      <td>30.2</td>\n",
       "      <td>88.6</td>\n",
       "    </tr>\n",
       "    <tr>\n",
       "      <th>1</th>\n",
       "      <td>1200</td>\n",
       "      <td>HU</td>\n",
       "      <td>130</td>\n",
       "      <td>924</td>\n",
       "      <td>1853</td>\n",
       "      <td>9</td>\n",
       "      <td>0</td>\n",
       "      <td>1</td>\n",
       "      <td>19.7</td>\n",
       "      <td>56.2</td>\n",
       "    </tr>\n",
       "    <tr>\n",
       "      <th>2</th>\n",
       "      <td>1200</td>\n",
       "      <td>HU</td>\n",
       "      <td>110</td>\n",
       "      <td>938</td>\n",
       "      <td>1854</td>\n",
       "      <td>9</td>\n",
       "      <td>0</td>\n",
       "      <td>1</td>\n",
       "      <td>28.0</td>\n",
       "      <td>78.6</td>\n",
       "    </tr>\n",
       "    <tr>\n",
       "      <th>3</th>\n",
       "      <td>1800</td>\n",
       "      <td>HU</td>\n",
       "      <td>100</td>\n",
       "      <td>950</td>\n",
       "      <td>1854</td>\n",
       "      <td>9</td>\n",
       "      <td>0</td>\n",
       "      <td>1</td>\n",
       "      <td>31.6</td>\n",
       "      <td>81.1</td>\n",
       "    </tr>\n",
       "    <tr>\n",
       "      <th>4</th>\n",
       "      <td>2000</td>\n",
       "      <td>HU</td>\n",
       "      <td>100</td>\n",
       "      <td>950</td>\n",
       "      <td>1854</td>\n",
       "      <td>9</td>\n",
       "      <td>0</td>\n",
       "      <td>1</td>\n",
       "      <td>31.7</td>\n",
       "      <td>81.1</td>\n",
       "    </tr>\n",
       "    <tr>\n",
       "      <th>...</th>\n",
       "      <td>...</td>\n",
       "      <td>...</td>\n",
       "      <td>...</td>\n",
       "      <td>...</td>\n",
       "      <td>...</td>\n",
       "      <td>...</td>\n",
       "      <td>...</td>\n",
       "      <td>...</td>\n",
       "      <td>...</td>\n",
       "      <td>...</td>\n",
       "    </tr>\n",
       "    <tr>\n",
       "      <th>38484</th>\n",
       "      <td>0</td>\n",
       "      <td>LO</td>\n",
       "      <td>30</td>\n",
       "      <td>1008</td>\n",
       "      <td>2020</td>\n",
       "      <td>11</td>\n",
       "      <td>0</td>\n",
       "      <td>1</td>\n",
       "      <td>16.8</td>\n",
       "      <td>121.7</td>\n",
       "    </tr>\n",
       "    <tr>\n",
       "      <th>38485</th>\n",
       "      <td>600</td>\n",
       "      <td>LO</td>\n",
       "      <td>30</td>\n",
       "      <td>1008</td>\n",
       "      <td>2020</td>\n",
       "      <td>11</td>\n",
       "      <td>0</td>\n",
       "      <td>1</td>\n",
       "      <td>16.7</td>\n",
       "      <td>122.6</td>\n",
       "    </tr>\n",
       "    <tr>\n",
       "      <th>38486</th>\n",
       "      <td>1200</td>\n",
       "      <td>LO</td>\n",
       "      <td>30</td>\n",
       "      <td>1009</td>\n",
       "      <td>2020</td>\n",
       "      <td>11</td>\n",
       "      <td>0</td>\n",
       "      <td>1</td>\n",
       "      <td>16.7</td>\n",
       "      <td>123.7</td>\n",
       "    </tr>\n",
       "    <tr>\n",
       "      <th>38487</th>\n",
       "      <td>1800</td>\n",
       "      <td>LO</td>\n",
       "      <td>25</td>\n",
       "      <td>1010</td>\n",
       "      <td>2020</td>\n",
       "      <td>11</td>\n",
       "      <td>0</td>\n",
       "      <td>1</td>\n",
       "      <td>16.6</td>\n",
       "      <td>124.8</td>\n",
       "    </tr>\n",
       "    <tr>\n",
       "      <th>38488</th>\n",
       "      <td>0</td>\n",
       "      <td>LO</td>\n",
       "      <td>25</td>\n",
       "      <td>1010</td>\n",
       "      <td>2020</td>\n",
       "      <td>11</td>\n",
       "      <td>0</td>\n",
       "      <td>1</td>\n",
       "      <td>16.4</td>\n",
       "      <td>126.0</td>\n",
       "    </tr>\n",
       "  </tbody>\n",
       "</table>\n",
       "<p>38489 rows × 10 columns</p>\n",
       "</div>"
      ],
      "text/plain": [
       "        UTC Status  MSWS  MinCentralPressure  Year  Month Latitude_Hemisphere  \\\n",
       "0       600     HU   100                 961  1852      8                   0   \n",
       "1      1200     HU   130                 924  1853      9                   0   \n",
       "2      1200     HU   110                 938  1854      9                   0   \n",
       "3      1800     HU   100                 950  1854      9                   0   \n",
       "4      2000     HU   100                 950  1854      9                   0   \n",
       "...     ...    ...   ...                 ...   ...    ...                 ...   \n",
       "38484     0     LO    30                1008  2020     11                   0   \n",
       "38485   600     LO    30                1008  2020     11                   0   \n",
       "38486  1200     LO    30                1009  2020     11                   0   \n",
       "38487  1800     LO    25                1010  2020     11                   0   \n",
       "38488     0     LO    25                1010  2020     11                   0   \n",
       "\n",
       "      Longitude_Hemisphere Latitude_num Longitude_num  \n",
       "0                        1         30.2          88.6  \n",
       "1                        1         19.7          56.2  \n",
       "2                        1         28.0          78.6  \n",
       "3                        1         31.6          81.1  \n",
       "4                        1         31.7          81.1  \n",
       "...                    ...          ...           ...  \n",
       "38484                    1         16.8         121.7  \n",
       "38485                    1         16.7         122.6  \n",
       "38486                    1         16.7         123.7  \n",
       "38487                    1         16.6         124.8  \n",
       "38488                    1         16.4         126.0  \n",
       "\n",
       "[38489 rows x 10 columns]"
      ]
     },
     "execution_count": 32,
     "metadata": {},
     "output_type": "execute_result"
    }
   ],
   "source": [
    "data"
   ]
  },
  {
   "cell_type": "code",
   "execution_count": 33,
   "metadata": {},
   "outputs": [],
   "source": [
    "Y=data['Status']"
   ]
  },
  {
   "cell_type": "code",
   "execution_count": 34,
   "metadata": {},
   "outputs": [],
   "source": [
    "X=data\n",
    "X.drop(['Status'],axis=1,inplace=True)"
   ]
  },
  {
   "cell_type": "code",
   "execution_count": 35,
   "metadata": {},
   "outputs": [
    {
     "data": {
      "text/html": [
       "<div>\n",
       "<style scoped>\n",
       "    .dataframe tbody tr th:only-of-type {\n",
       "        vertical-align: middle;\n",
       "    }\n",
       "\n",
       "    .dataframe tbody tr th {\n",
       "        vertical-align: top;\n",
       "    }\n",
       "\n",
       "    .dataframe thead th {\n",
       "        text-align: right;\n",
       "    }\n",
       "</style>\n",
       "<table border=\"1\" class=\"dataframe\">\n",
       "  <thead>\n",
       "    <tr style=\"text-align: right;\">\n",
       "      <th></th>\n",
       "      <th>UTC</th>\n",
       "      <th>MSWS</th>\n",
       "      <th>MinCentralPressure</th>\n",
       "      <th>Year</th>\n",
       "      <th>Month</th>\n",
       "      <th>Latitude_Hemisphere</th>\n",
       "      <th>Longitude_Hemisphere</th>\n",
       "      <th>Latitude_num</th>\n",
       "      <th>Longitude_num</th>\n",
       "    </tr>\n",
       "  </thead>\n",
       "  <tbody>\n",
       "    <tr>\n",
       "      <th>0</th>\n",
       "      <td>600</td>\n",
       "      <td>100</td>\n",
       "      <td>961</td>\n",
       "      <td>1852</td>\n",
       "      <td>8</td>\n",
       "      <td>0</td>\n",
       "      <td>1</td>\n",
       "      <td>30.2</td>\n",
       "      <td>88.6</td>\n",
       "    </tr>\n",
       "    <tr>\n",
       "      <th>1</th>\n",
       "      <td>1200</td>\n",
       "      <td>130</td>\n",
       "      <td>924</td>\n",
       "      <td>1853</td>\n",
       "      <td>9</td>\n",
       "      <td>0</td>\n",
       "      <td>1</td>\n",
       "      <td>19.7</td>\n",
       "      <td>56.2</td>\n",
       "    </tr>\n",
       "    <tr>\n",
       "      <th>2</th>\n",
       "      <td>1200</td>\n",
       "      <td>110</td>\n",
       "      <td>938</td>\n",
       "      <td>1854</td>\n",
       "      <td>9</td>\n",
       "      <td>0</td>\n",
       "      <td>1</td>\n",
       "      <td>28.0</td>\n",
       "      <td>78.6</td>\n",
       "    </tr>\n",
       "    <tr>\n",
       "      <th>3</th>\n",
       "      <td>1800</td>\n",
       "      <td>100</td>\n",
       "      <td>950</td>\n",
       "      <td>1854</td>\n",
       "      <td>9</td>\n",
       "      <td>0</td>\n",
       "      <td>1</td>\n",
       "      <td>31.6</td>\n",
       "      <td>81.1</td>\n",
       "    </tr>\n",
       "    <tr>\n",
       "      <th>4</th>\n",
       "      <td>2000</td>\n",
       "      <td>100</td>\n",
       "      <td>950</td>\n",
       "      <td>1854</td>\n",
       "      <td>9</td>\n",
       "      <td>0</td>\n",
       "      <td>1</td>\n",
       "      <td>31.7</td>\n",
       "      <td>81.1</td>\n",
       "    </tr>\n",
       "  </tbody>\n",
       "</table>\n",
       "</div>"
      ],
      "text/plain": [
       "    UTC  MSWS  MinCentralPressure  Year  Month Latitude_Hemisphere  \\\n",
       "0   600   100                 961  1852      8                   0   \n",
       "1  1200   130                 924  1853      9                   0   \n",
       "2  1200   110                 938  1854      9                   0   \n",
       "3  1800   100                 950  1854      9                   0   \n",
       "4  2000   100                 950  1854      9                   0   \n",
       "\n",
       "  Longitude_Hemisphere Latitude_num Longitude_num  \n",
       "0                    1         30.2          88.6  \n",
       "1                    1         19.7          56.2  \n",
       "2                    1         28.0          78.6  \n",
       "3                    1         31.6          81.1  \n",
       "4                    1         31.7          81.1  "
      ]
     },
     "execution_count": 35,
     "metadata": {},
     "output_type": "execute_result"
    }
   ],
   "source": [
    "X.head()\n"
   ]
  },
  {
   "cell_type": "code",
   "execution_count": 36,
   "metadata": {},
   "outputs": [
    {
     "data": {
      "text/plain": [
       "0     HU\n",
       "1     HU\n",
       "2     HU\n",
       "3     HU\n",
       "4     HU\n",
       "Name: Status, dtype: object"
      ]
     },
     "execution_count": 36,
     "metadata": {},
     "output_type": "execute_result"
    }
   ],
   "source": [
    "Y.head()"
   ]
  },
  {
   "cell_type": "code",
   "execution_count": 37,
   "metadata": {},
   "outputs": [
    {
     "data": {
      "text/plain": [
       "(38489,)"
      ]
     },
     "execution_count": 37,
     "metadata": {},
     "output_type": "execute_result"
    }
   ],
   "source": [
    "Y.shape"
   ]
  },
  {
   "cell_type": "code",
   "execution_count": 38,
   "metadata": {},
   "outputs": [],
   "source": [
    "#Split test and train"
   ]
  },
  {
   "cell_type": "code",
   "execution_count": 39,
   "metadata": {},
   "outputs": [],
   "source": [
    "X_train , X_test , Y_train, Y_test  = train_test_split(X,Y, test_size=0.2, random_state=32)"
   ]
  },
  {
   "cell_type": "code",
   "execution_count": 40,
   "metadata": {},
   "outputs": [
    {
     "name": "stdout",
     "output_type": "stream",
     "text": [
      "30791 30791\n",
      "7698 7698\n"
     ]
    }
   ],
   "source": [
    "print(len(X_train),len(Y_train))\n",
    "print(len(X_test),len(Y_test))"
   ]
  },
  {
   "cell_type": "code",
   "execution_count": 41,
   "metadata": {},
   "outputs": [],
   "source": [
    "#Feature scaling"
   ]
  },
  {
   "cell_type": "code",
   "execution_count": 42,
   "metadata": {},
   "outputs": [],
   "source": [
    "X_test1=X_test\n",
    "\n",
    "from sklearn.preprocessing import StandardScaler\n",
    "sc = StandardScaler()\n",
    "X_train = sc.fit_transform(X_train)\n",
    "X_test = sc.transform(X_test)"
   ]
  },
  {
   "cell_type": "code",
   "execution_count": 43,
   "metadata": {},
   "outputs": [
    {
     "name": "stdout",
     "output_type": "stream",
     "text": [
      "[[ 1.31225279  0.1748573   0.02376138 ...  0.08675213 -1.11454866\n",
      "   0.53351466]\n",
      " [-1.35915686 -0.76560455  0.66587639 ...  0.08675213 -1.05226255\n",
      "   0.61224755]\n",
      " [ 1.31225279 -0.76560455  0.66587639 ...  0.08675213 -1.11454866\n",
      "   1.40801204]\n",
      " ...\n",
      " [ 0.4217829   0.36294968  0.02376138 ...  0.08675213 -1.23912087\n",
      "  -0.23694283]\n",
      " [-1.35915686 -0.76560455  0.71938597 ...  0.08675213 -0.88616626\n",
      "   0.48571256]\n",
      " [-0.46868698 -0.57751218  0.2913093  ...  0.08675213  1.64680214\n",
      "  -0.39722048]]\n"
     ]
    }
   ],
   "source": [
    "print(X_test)"
   ]
  },
  {
   "cell_type": "code",
   "execution_count": 44,
   "metadata": {},
   "outputs": [
    {
     "name": "stdout",
     "output_type": "stream",
     "text": [
      "        UTC  MSWS  MinCentralPressure  Year  Month Latitude_Hemisphere  \\\n",
      "28681  1800    55                 994  2003     10                   0   \n",
      "30221     0    30                1006  2007      5                   0   \n",
      "38067  1800    30                1006  2020      6                   0   \n",
      "8490    600    30                1007  1995      8                   0   \n",
      "9430   1200    35                1009  1997      6                   0   \n",
      "...     ...   ...                 ...   ...    ...                 ...   \n",
      "6551      0   120                 943  1989      9                   0   \n",
      "21607  1800    70                 960  2020     10                   0   \n",
      "36229  1200    60                 994  2016     11                   0   \n",
      "23600     0    30                1007  1991      8                   0   \n",
      "13023   600    35                 999  2004      9                   0   \n",
      "\n",
      "      Longitude_Hemisphere Latitude_num Longitude_num  \n",
      "28681                    1         12.2         107.8  \n",
      "30221                    1         12.8         110.6  \n",
      "38067                    1         12.2         138.9  \n",
      "8490                     1         15.8          36.7  \n",
      "9430                     1         40.0          68.4  \n",
      "...                    ...          ...           ...  \n",
      "6551                     1         26.4          60.0  \n",
      "21607                    1         38.6          59.7  \n",
      "36229                    1         11.0          80.4  \n",
      "23600                    1         14.4         106.1  \n",
      "13023                    1         38.8          74.7  \n",
      "\n",
      "[7698 rows x 9 columns]\n"
     ]
    }
   ],
   "source": [
    "print(X_test1)"
   ]
  },
  {
   "cell_type": "code",
   "execution_count": 45,
   "metadata": {},
   "outputs": [],
   "source": [
    "#Using random forest Classifier"
   ]
  },
  {
   "cell_type": "code",
   "execution_count": 46,
   "metadata": {},
   "outputs": [
    {
     "name": "stderr",
     "output_type": "stream",
     "text": [
      "C:\\Users\\niyan\\anaconda3\\envs\\cv\\lib\\site-packages\\sklearn\\ensemble\\weight_boosting.py:29: DeprecationWarning: numpy.core.umath_tests is an internal NumPy module and should not be imported. It will be removed in a future NumPy release.\n",
      "  from numpy.core.umath_tests import inner1d\n"
     ]
    }
   ],
   "source": [
    "\n",
    "from sklearn.ensemble import RandomForestClassifier\n",
    "from sklearn.metrics import accuracy_score\n",
    "from sklearn.metrics import recall_score \n",
    "from sklearn.metrics import precision_score "
   ]
  },
  {
   "cell_type": "code",
   "execution_count": 47,
   "metadata": {},
   "outputs": [
    {
     "data": {
      "text/plain": [
       "RandomForestClassifier(bootstrap=True, class_weight=None, criterion='gini',\n",
       "            max_depth=None, max_features='auto', max_leaf_nodes=None,\n",
       "            min_impurity_decrease=0.0, min_impurity_split=None,\n",
       "            min_samples_leaf=1, min_samples_split=2,\n",
       "            min_weight_fraction_leaf=0.0, n_estimators=500, n_jobs=1,\n",
       "            oob_score=False, random_state=None, verbose=0,\n",
       "            warm_start=False)"
      ]
     },
     "execution_count": 47,
     "metadata": {},
     "output_type": "execute_result"
    }
   ],
   "source": [
    "model=RandomForestClassifier(n_estimators=500)\n",
    "model.fit(X_train,Y_train)"
   ]
  },
  {
   "cell_type": "code",
   "execution_count": 48,
   "metadata": {},
   "outputs": [],
   "source": [
    "prediction=model.predict(X_test)"
   ]
  },
  {
   "cell_type": "code",
   "execution_count": 49,
   "metadata": {},
   "outputs": [
    {
     "name": "stdout",
     "output_type": "stream",
     "text": [
      "[' TS' ' TD' ' TD' ... ' TS' ' TD' ' EX']\n"
     ]
    }
   ],
   "source": [
    "print(np.array(Y_test))"
   ]
  },
  {
   "cell_type": "code",
   "execution_count": 50,
   "metadata": {},
   "outputs": [
    {
     "name": "stdout",
     "output_type": "stream",
     "text": [
      "[' TS' ' TD' ' TD' ... ' TS' ' TD' ' EX']\n"
     ]
    }
   ],
   "source": [
    "print(prediction)"
   ]
  },
  {
   "cell_type": "code",
   "execution_count": 51,
   "metadata": {},
   "outputs": [],
   "source": [
    "#print(np.concatenate((prediction.reshape(len(prediction),1), Y_test.reshape(len(Y_test),1)),1))"
   ]
  },
  {
   "cell_type": "code",
   "execution_count": 52,
   "metadata": {},
   "outputs": [
    {
     "name": "stdout",
     "output_type": "stream",
     "text": [
      " TS\n"
     ]
    }
   ],
   "source": [
    "print(prediction[0])"
   ]
  },
  {
   "cell_type": "code",
   "execution_count": 53,
   "metadata": {},
   "outputs": [
    {
     "name": "stdout",
     "output_type": "stream",
     "text": [
      "0.9428422967004416\n"
     ]
    }
   ],
   "source": [
    "print(accuracy_score(Y_test,prediction))"
   ]
  },
  {
   "cell_type": "code",
   "execution_count": 322,
   "metadata": {},
   "outputs": [],
   "source": [
    "#model.predict(sc.transform([[19690905,45,997]]))"
   ]
  },
  {
   "cell_type": "code",
   "execution_count": 54,
   "metadata": {},
   "outputs": [
    {
     "name": "stdout",
     "output_type": "stream",
     "text": [
      "[[  64    0    0   12    0    0    0    5    6    0    0]\n",
      " [   0  375   18   14    1    1    0   16   56    0    0]\n",
      " [   0    2 2025    0    0    0    0    0    0    0    0]\n",
      " [   3   15    0  721    0    0    0   64   20    0    1]\n",
      " [   0    2    0    1   30    0    0   24    0    0    0]\n",
      " [   0    2    0    0    0   58    0    0   53    0    0]\n",
      " [   0    0    0    0    0    0    2    0    0    0    0]\n",
      " [   2   14    0   71    4    0    0 1424    0    0    0]\n",
      " [   0   19    1    2    0    4    0    0 2543    0    0]\n",
      " [   0    0    0    0    0    0    0    0    0    9    0]\n",
      " [   0    0    0    0    0    0    0    3    4    0    7]]\n"
     ]
    },
    {
     "data": {
      "text/plain": [
       "0.9428422967004416"
      ]
     },
     "execution_count": 54,
     "metadata": {},
     "output_type": "execute_result"
    }
   ],
   "source": [
    "from sklearn.metrics import confusion_matrix, accuracy_score\n",
    "cm = confusion_matrix(Y_test, prediction)\n",
    "print(cm)\n",
    "accuracy_score(Y_test, prediction)"
   ]
  },
  {
   "cell_type": "code",
   "execution_count": 55,
   "metadata": {},
   "outputs": [],
   "source": [
    "#Feature selection"
   ]
  },
  {
   "cell_type": "code",
   "execution_count": 56,
   "metadata": {},
   "outputs": [],
   "source": [
    "features = pd.Series(model.feature_importances_ , index= X_test1.columns).sort_values(ascending=False)"
   ]
  },
  {
   "cell_type": "code",
   "execution_count": 57,
   "metadata": {},
   "outputs": [
    {
     "name": "stdout",
     "output_type": "stream",
     "text": [
      "MSWS                    0.487871\n",
      "MinCentralPressure      0.207574\n",
      "Latitude_num            0.106634\n",
      "Year                    0.081899\n",
      "Longitude_num           0.072841\n",
      "Month                   0.028917\n",
      "UTC                     0.010624\n",
      "Longitude_Hemisphere    0.003640\n",
      "Latitude_Hemisphere     0.000000\n",
      "dtype: float64\n"
     ]
    }
   ],
   "source": [
    "print(features)"
   ]
  },
  {
   "cell_type": "code",
   "execution_count": 58,
   "metadata": {},
   "outputs": [],
   "source": [
    "#Now we choose the top 5 features "
   ]
  },
  {
   "cell_type": "code",
   "execution_count": 59,
   "metadata": {},
   "outputs": [
    {
     "data": {
      "text/html": [
       "<div>\n",
       "<style scoped>\n",
       "    .dataframe tbody tr th:only-of-type {\n",
       "        vertical-align: middle;\n",
       "    }\n",
       "\n",
       "    .dataframe tbody tr th {\n",
       "        vertical-align: top;\n",
       "    }\n",
       "\n",
       "    .dataframe thead th {\n",
       "        text-align: right;\n",
       "    }\n",
       "</style>\n",
       "<table border=\"1\" class=\"dataframe\">\n",
       "  <thead>\n",
       "    <tr style=\"text-align: right;\">\n",
       "      <th></th>\n",
       "      <th>UTC</th>\n",
       "      <th>Status</th>\n",
       "      <th>MSWS</th>\n",
       "      <th>MinCentralPressure</th>\n",
       "      <th>Year</th>\n",
       "      <th>Month</th>\n",
       "      <th>Latitude_Hemisphere</th>\n",
       "      <th>Longitude_Hemisphere</th>\n",
       "      <th>Latitude_num</th>\n",
       "      <th>Longitude_num</th>\n",
       "    </tr>\n",
       "  </thead>\n",
       "  <tbody>\n",
       "    <tr>\n",
       "      <th>0</th>\n",
       "      <td>600</td>\n",
       "      <td>HU</td>\n",
       "      <td>100</td>\n",
       "      <td>961</td>\n",
       "      <td>1852</td>\n",
       "      <td>8</td>\n",
       "      <td>0</td>\n",
       "      <td>1</td>\n",
       "      <td>30.2</td>\n",
       "      <td>88.6</td>\n",
       "    </tr>\n",
       "    <tr>\n",
       "      <th>1</th>\n",
       "      <td>1200</td>\n",
       "      <td>HU</td>\n",
       "      <td>130</td>\n",
       "      <td>924</td>\n",
       "      <td>1853</td>\n",
       "      <td>9</td>\n",
       "      <td>0</td>\n",
       "      <td>1</td>\n",
       "      <td>19.7</td>\n",
       "      <td>56.2</td>\n",
       "    </tr>\n",
       "    <tr>\n",
       "      <th>2</th>\n",
       "      <td>1200</td>\n",
       "      <td>HU</td>\n",
       "      <td>110</td>\n",
       "      <td>938</td>\n",
       "      <td>1854</td>\n",
       "      <td>9</td>\n",
       "      <td>0</td>\n",
       "      <td>1</td>\n",
       "      <td>28.0</td>\n",
       "      <td>78.6</td>\n",
       "    </tr>\n",
       "    <tr>\n",
       "      <th>3</th>\n",
       "      <td>1800</td>\n",
       "      <td>HU</td>\n",
       "      <td>100</td>\n",
       "      <td>950</td>\n",
       "      <td>1854</td>\n",
       "      <td>9</td>\n",
       "      <td>0</td>\n",
       "      <td>1</td>\n",
       "      <td>31.6</td>\n",
       "      <td>81.1</td>\n",
       "    </tr>\n",
       "    <tr>\n",
       "      <th>4</th>\n",
       "      <td>2000</td>\n",
       "      <td>HU</td>\n",
       "      <td>100</td>\n",
       "      <td>950</td>\n",
       "      <td>1854</td>\n",
       "      <td>9</td>\n",
       "      <td>0</td>\n",
       "      <td>1</td>\n",
       "      <td>31.7</td>\n",
       "      <td>81.1</td>\n",
       "    </tr>\n",
       "    <tr>\n",
       "      <th>...</th>\n",
       "      <td>...</td>\n",
       "      <td>...</td>\n",
       "      <td>...</td>\n",
       "      <td>...</td>\n",
       "      <td>...</td>\n",
       "      <td>...</td>\n",
       "      <td>...</td>\n",
       "      <td>...</td>\n",
       "      <td>...</td>\n",
       "      <td>...</td>\n",
       "    </tr>\n",
       "    <tr>\n",
       "      <th>38484</th>\n",
       "      <td>0</td>\n",
       "      <td>LO</td>\n",
       "      <td>30</td>\n",
       "      <td>1008</td>\n",
       "      <td>2020</td>\n",
       "      <td>11</td>\n",
       "      <td>0</td>\n",
       "      <td>1</td>\n",
       "      <td>16.8</td>\n",
       "      <td>121.7</td>\n",
       "    </tr>\n",
       "    <tr>\n",
       "      <th>38485</th>\n",
       "      <td>600</td>\n",
       "      <td>LO</td>\n",
       "      <td>30</td>\n",
       "      <td>1008</td>\n",
       "      <td>2020</td>\n",
       "      <td>11</td>\n",
       "      <td>0</td>\n",
       "      <td>1</td>\n",
       "      <td>16.7</td>\n",
       "      <td>122.6</td>\n",
       "    </tr>\n",
       "    <tr>\n",
       "      <th>38486</th>\n",
       "      <td>1200</td>\n",
       "      <td>LO</td>\n",
       "      <td>30</td>\n",
       "      <td>1009</td>\n",
       "      <td>2020</td>\n",
       "      <td>11</td>\n",
       "      <td>0</td>\n",
       "      <td>1</td>\n",
       "      <td>16.7</td>\n",
       "      <td>123.7</td>\n",
       "    </tr>\n",
       "    <tr>\n",
       "      <th>38487</th>\n",
       "      <td>1800</td>\n",
       "      <td>LO</td>\n",
       "      <td>25</td>\n",
       "      <td>1010</td>\n",
       "      <td>2020</td>\n",
       "      <td>11</td>\n",
       "      <td>0</td>\n",
       "      <td>1</td>\n",
       "      <td>16.6</td>\n",
       "      <td>124.8</td>\n",
       "    </tr>\n",
       "    <tr>\n",
       "      <th>38488</th>\n",
       "      <td>0</td>\n",
       "      <td>LO</td>\n",
       "      <td>25</td>\n",
       "      <td>1010</td>\n",
       "      <td>2020</td>\n",
       "      <td>11</td>\n",
       "      <td>0</td>\n",
       "      <td>1</td>\n",
       "      <td>16.4</td>\n",
       "      <td>126.0</td>\n",
       "    </tr>\n",
       "  </tbody>\n",
       "</table>\n",
       "<p>38489 rows × 10 columns</p>\n",
       "</div>"
      ],
      "text/plain": [
       "        UTC Status  MSWS  MinCentralPressure  Year  Month Latitude_Hemisphere  \\\n",
       "0       600     HU   100                 961  1852      8                   0   \n",
       "1      1200     HU   130                 924  1853      9                   0   \n",
       "2      1200     HU   110                 938  1854      9                   0   \n",
       "3      1800     HU   100                 950  1854      9                   0   \n",
       "4      2000     HU   100                 950  1854      9                   0   \n",
       "...     ...    ...   ...                 ...   ...    ...                 ...   \n",
       "38484     0     LO    30                1008  2020     11                   0   \n",
       "38485   600     LO    30                1008  2020     11                   0   \n",
       "38486  1200     LO    30                1009  2020     11                   0   \n",
       "38487  1800     LO    25                1010  2020     11                   0   \n",
       "38488     0     LO    25                1010  2020     11                   0   \n",
       "\n",
       "      Longitude_Hemisphere Latitude_num Longitude_num  \n",
       "0                        1         30.2          88.6  \n",
       "1                        1         19.7          56.2  \n",
       "2                        1         28.0          78.6  \n",
       "3                        1         31.6          81.1  \n",
       "4                        1         31.7          81.1  \n",
       "...                    ...          ...           ...  \n",
       "38484                    1         16.8         121.7  \n",
       "38485                    1         16.7         122.6  \n",
       "38486                    1         16.7         123.7  \n",
       "38487                    1         16.6         124.8  \n",
       "38488                    1         16.4         126.0  \n",
       "\n",
       "[38489 rows x 10 columns]"
      ]
     },
     "execution_count": 59,
     "metadata": {},
     "output_type": "execute_result"
    }
   ],
   "source": [
    "data_dup"
   ]
  },
  {
   "cell_type": "code",
   "execution_count": 60,
   "metadata": {},
   "outputs": [],
   "source": [
    "data_selected=data_dup[['MSWS','MinCentralPressure','Latitude_num','Year','Longitude_num','Status']]"
   ]
  },
  {
   "cell_type": "code",
   "execution_count": 61,
   "metadata": {},
   "outputs": [
    {
     "data": {
      "text/html": [
       "<div>\n",
       "<style scoped>\n",
       "    .dataframe tbody tr th:only-of-type {\n",
       "        vertical-align: middle;\n",
       "    }\n",
       "\n",
       "    .dataframe tbody tr th {\n",
       "        vertical-align: top;\n",
       "    }\n",
       "\n",
       "    .dataframe thead th {\n",
       "        text-align: right;\n",
       "    }\n",
       "</style>\n",
       "<table border=\"1\" class=\"dataframe\">\n",
       "  <thead>\n",
       "    <tr style=\"text-align: right;\">\n",
       "      <th></th>\n",
       "      <th>MSWS</th>\n",
       "      <th>MinCentralPressure</th>\n",
       "      <th>Latitude_num</th>\n",
       "      <th>Year</th>\n",
       "      <th>Longitude_num</th>\n",
       "      <th>Status</th>\n",
       "    </tr>\n",
       "  </thead>\n",
       "  <tbody>\n",
       "    <tr>\n",
       "      <th>0</th>\n",
       "      <td>100</td>\n",
       "      <td>961</td>\n",
       "      <td>30.2</td>\n",
       "      <td>1852</td>\n",
       "      <td>88.6</td>\n",
       "      <td>HU</td>\n",
       "    </tr>\n",
       "    <tr>\n",
       "      <th>1</th>\n",
       "      <td>130</td>\n",
       "      <td>924</td>\n",
       "      <td>19.7</td>\n",
       "      <td>1853</td>\n",
       "      <td>56.2</td>\n",
       "      <td>HU</td>\n",
       "    </tr>\n",
       "    <tr>\n",
       "      <th>2</th>\n",
       "      <td>110</td>\n",
       "      <td>938</td>\n",
       "      <td>28.0</td>\n",
       "      <td>1854</td>\n",
       "      <td>78.6</td>\n",
       "      <td>HU</td>\n",
       "    </tr>\n",
       "    <tr>\n",
       "      <th>3</th>\n",
       "      <td>100</td>\n",
       "      <td>950</td>\n",
       "      <td>31.6</td>\n",
       "      <td>1854</td>\n",
       "      <td>81.1</td>\n",
       "      <td>HU</td>\n",
       "    </tr>\n",
       "    <tr>\n",
       "      <th>4</th>\n",
       "      <td>100</td>\n",
       "      <td>950</td>\n",
       "      <td>31.7</td>\n",
       "      <td>1854</td>\n",
       "      <td>81.1</td>\n",
       "      <td>HU</td>\n",
       "    </tr>\n",
       "  </tbody>\n",
       "</table>\n",
       "</div>"
      ],
      "text/plain": [
       "   MSWS  MinCentralPressure Latitude_num  Year Longitude_num Status\n",
       "0   100                 961         30.2  1852          88.6     HU\n",
       "1   130                 924         19.7  1853          56.2     HU\n",
       "2   110                 938         28.0  1854          78.6     HU\n",
       "3   100                 950         31.6  1854          81.1     HU\n",
       "4   100                 950         31.7  1854          81.1     HU"
      ]
     },
     "execution_count": 61,
     "metadata": {},
     "output_type": "execute_result"
    }
   ],
   "source": [
    "data_selected.head()"
   ]
  },
  {
   "cell_type": "code",
   "execution_count": 62,
   "metadata": {},
   "outputs": [
    {
     "name": "stderr",
     "output_type": "stream",
     "text": [
      "C:\\Users\\niyan\\anaconda3\\envs\\cv\\lib\\site-packages\\pandas\\core\\frame.py:4174: SettingWithCopyWarning: \n",
      "A value is trying to be set on a copy of a slice from a DataFrame\n",
      "\n",
      "See the caveats in the documentation: https://pandas.pydata.org/pandas-docs/stable/user_guide/indexing.html#returning-a-view-versus-a-copy\n",
      "  errors=errors,\n"
     ]
    }
   ],
   "source": [
    "Y=data_selected['Status']\n",
    "X=data_selected\n",
    "X.drop(['Status'],axis=1,inplace=True)"
   ]
  },
  {
   "cell_type": "code",
   "execution_count": 63,
   "metadata": {},
   "outputs": [],
   "source": [
    "X_train , X_test , Y_train, Y_test  = train_test_split(X,Y, test_size=0.1, random_state=32)"
   ]
  },
  {
   "cell_type": "code",
   "execution_count": 64,
   "metadata": {},
   "outputs": [],
   "source": [
    "sc = StandardScaler()\n",
    "X_train = sc.fit_transform(X_train)\n",
    "X_test = sc.transform(X_test)"
   ]
  },
  {
   "cell_type": "code",
   "execution_count": 65,
   "metadata": {},
   "outputs": [
    {
     "data": {
      "text/plain": [
       "RandomForestClassifier(bootstrap=True, class_weight=None, criterion='gini',\n",
       "            max_depth=None, max_features='auto', max_leaf_nodes=None,\n",
       "            min_impurity_decrease=0.0, min_impurity_split=None,\n",
       "            min_samples_leaf=1, min_samples_split=2,\n",
       "            min_weight_fraction_leaf=0.0, n_estimators=1000, n_jobs=1,\n",
       "            oob_score=False, random_state=None, verbose=0,\n",
       "            warm_start=False)"
      ]
     },
     "execution_count": 65,
     "metadata": {},
     "output_type": "execute_result"
    }
   ],
   "source": [
    "model=RandomForestClassifier(n_estimators=1000)\n",
    "model.fit(X_train,Y_train)"
   ]
  },
  {
   "cell_type": "code",
   "execution_count": 66,
   "metadata": {},
   "outputs": [
    {
     "name": "stdout",
     "output_type": "stream",
     "text": [
      "[' TS' ' TD' ' TD' ... ' EX' ' TD' ' HU']\n"
     ]
    }
   ],
   "source": [
    "prediction=model.predict(X_test)\n",
    "print(np.array(Y_test))"
   ]
  },
  {
   "cell_type": "code",
   "execution_count": 67,
   "metadata": {},
   "outputs": [
    {
     "name": "stdout",
     "output_type": "stream",
     "text": [
      "[[  32    0    0    3    0    0    0    2    1    0    0]\n",
      " [   0  190    8    4    1    1    0    9   27    0    0]\n",
      " [   0    1 1001    0    0    0    0    0    0    0    0]\n",
      " [   2    6    0  356    0    0    0   36    7    0    0]\n",
      " [   0    0    0    1   11    0    0   11    0    0    0]\n",
      " [   0    1    0    0    0   30    0    0   26    0    0]\n",
      " [   0    0    0    0    0    0    1    0    0    0    0]\n",
      " [   1    5    0   34    1    0    0  708    0    0    0]\n",
      " [   0   14    0    4    0    1    0    0 1302    0    0]\n",
      " [   0    0    0    0    0    0    0    0    0    4    0]\n",
      " [   0    0    0    0    0    0    0    0    1    0    6]]\n"
     ]
    },
    {
     "data": {
      "text/plain": [
       "0.9459599896076903"
      ]
     },
     "execution_count": 67,
     "metadata": {},
     "output_type": "execute_result"
    }
   ],
   "source": [
    "cm = confusion_matrix(Y_test, prediction)\n",
    "print(cm)\n",
    "accuracy_score(Y_test, prediction)"
   ]
  },
  {
   "cell_type": "code",
   "execution_count": 68,
   "metadata": {},
   "outputs": [
    {
     "data": {
      "text/plain": [
       "array([[ 0.1745114 ,  0.02412219, -1.11577736,  0.19253097,  0.53401927],\n",
       "       [-0.76476573,  0.66532379, -1.05356645,  0.41163926,  0.61274919],\n",
       "       [-0.76476573,  0.66532379, -1.11577736,  1.12374119,  1.40848376],\n",
       "       ...,\n",
       "       [ 0.1745114 , -0.08274475,  1.23786866, -1.28644997, -1.53826475],\n",
       "       [-0.76476573,  0.66532379, -0.64919555,  0.5211934 ,  0.62399632],\n",
       "       [ 1.48949938, -1.20484756,  1.66297653, -0.35523975, -0.57101142]])"
      ]
     },
     "execution_count": 68,
     "metadata": {},
     "output_type": "execute_result"
    }
   ],
   "source": [
    "X_test"
   ]
  },
  {
   "cell_type": "code",
   "execution_count": 347,
   "metadata": {},
   "outputs": [
    {
     "ename": "ValueError",
     "evalue": "operands could not be broadcast together with shapes (835120,2) (5,) (835120,2) ",
     "output_type": "error",
     "traceback": [
      "\u001b[1;31m---------------------------------------------------------------------------\u001b[0m",
      "\u001b[1;31mValueError\u001b[0m                                Traceback (most recent call last)",
      "\u001b[1;32m<ipython-input-347-54e103d51224>\u001b[0m in \u001b[0;36m<module>\u001b[1;34m\u001b[0m\n\u001b[0;32m      3\u001b[0m X1, X2 = np.meshgrid(np.arange(start = X_set[:, 0].min() - 10, stop = X_set[:, 0].max() + 10, step = 0.25),\n\u001b[0;32m      4\u001b[0m                      np.arange(start = X_set[:, 1].min() - 1000, stop = X_set[:, 1].max() + 1000, step = 0.25))\n\u001b[1;32m----> 5\u001b[1;33m plt.contourf(X1, X2, classifier.predict(sc.transform(np.array([X1.ravel(), X2.ravel()]).T)).reshape(X1.shape),\n\u001b[0m\u001b[0;32m      6\u001b[0m              alpha = 0.75, cmap = ListedColormap(('red', 'green')))\n\u001b[0;32m      7\u001b[0m \u001b[0mplt\u001b[0m\u001b[1;33m.\u001b[0m\u001b[0mxlim\u001b[0m\u001b[1;33m(\u001b[0m\u001b[0mX1\u001b[0m\u001b[1;33m.\u001b[0m\u001b[0mmin\u001b[0m\u001b[1;33m(\u001b[0m\u001b[1;33m)\u001b[0m\u001b[1;33m,\u001b[0m \u001b[0mX1\u001b[0m\u001b[1;33m.\u001b[0m\u001b[0mmax\u001b[0m\u001b[1;33m(\u001b[0m\u001b[1;33m)\u001b[0m\u001b[1;33m)\u001b[0m\u001b[1;33m\u001b[0m\u001b[0m\n",
      "\u001b[1;32m~\\anaconda3\\envs\\cv\\lib\\site-packages\\sklearn\\preprocessing\\data.py\u001b[0m in \u001b[0;36mtransform\u001b[1;34m(self, X, y, copy)\u001b[0m\n\u001b[0;32m    690\u001b[0m         \u001b[1;32melse\u001b[0m\u001b[1;33m:\u001b[0m\u001b[1;33m\u001b[0m\u001b[0m\n\u001b[0;32m    691\u001b[0m             \u001b[1;32mif\u001b[0m \u001b[0mself\u001b[0m\u001b[1;33m.\u001b[0m\u001b[0mwith_mean\u001b[0m\u001b[1;33m:\u001b[0m\u001b[1;33m\u001b[0m\u001b[0m\n\u001b[1;32m--> 692\u001b[1;33m                 \u001b[0mX\u001b[0m \u001b[1;33m-=\u001b[0m \u001b[0mself\u001b[0m\u001b[1;33m.\u001b[0m\u001b[0mmean_\u001b[0m\u001b[1;33m\u001b[0m\u001b[0m\n\u001b[0m\u001b[0;32m    693\u001b[0m             \u001b[1;32mif\u001b[0m \u001b[0mself\u001b[0m\u001b[1;33m.\u001b[0m\u001b[0mwith_std\u001b[0m\u001b[1;33m:\u001b[0m\u001b[1;33m\u001b[0m\u001b[0m\n\u001b[0;32m    694\u001b[0m                 \u001b[0mX\u001b[0m \u001b[1;33m/=\u001b[0m \u001b[0mself\u001b[0m\u001b[1;33m.\u001b[0m\u001b[0mscale_\u001b[0m\u001b[1;33m\u001b[0m\u001b[0m\n",
      "\u001b[1;31mValueError\u001b[0m: operands could not be broadcast together with shapes (835120,2) (5,) (835120,2) "
     ]
    }
   ],
   "source": [
    "from matplotlib.colors import ListedColormap\n",
    "X_set, y_set = X_train, Y_train\n",
    "X1, X2 = np.meshgrid(np.arange(start = X_set[:, 0].min() - 10, stop = X_set[:, 0].max() + 10, step = 0.25),\n",
    "                     np.arange(start = X_set[:, 1].min() - 1000, stop = X_set[:, 1].max() + 1000, step = 0.25))\n",
    "plt.contourf(X1, X2, classifier.predict(sc.transform(np.array([X1.ravel(), X2.ravel()]).T)).reshape(X1.shape),\n",
    "             alpha = 0.75, cmap = ListedColormap(('red', 'green')))\n",
    "plt.xlim(X1.min(), X1.max())\n",
    "plt.ylim(X2.min(), X2.max())\n",
    "for i, j in enumerate(np.unique(y_set)):\n",
    "    plt.scatter(X_set[y_set == j, 0], X_set[y_set == j, 1], c = ListedColormap(('red', 'green'))(i), label = j)\n",
    "plt.title('Random Forest Classification (Training set)')\n",
    "plt.xlabel('Age')\n",
    "plt.ylabel('Estimated Salary')\n",
    "plt.legend()\n",
    "plt.show()"
   ]
  },
  {
   "cell_type": "code",
   "execution_count": 69,
   "metadata": {},
   "outputs": [
    {
     "data": {
      "text/plain": [
       "SVC(C=1.0, cache_size=200, class_weight=None, coef0=0.0,\n",
       "  decision_function_shape='ovr', degree=3, gamma='auto', kernel='linear',\n",
       "  max_iter=-1, probability=False, random_state=0, shrinking=True,\n",
       "  tol=0.001, verbose=False)"
      ]
     },
     "execution_count": 69,
     "metadata": {},
     "output_type": "execute_result"
    }
   ],
   "source": [
    "from sklearn.svm import SVC\n",
    "classifier = SVC(kernel = 'linear', random_state = 0)\n",
    "classifier.fit(X_train, Y_train)"
   ]
  },
  {
   "cell_type": "code",
   "execution_count": 70,
   "metadata": {},
   "outputs": [],
   "source": [
    "svmprediction=classifier.predict(X_test)"
   ]
  },
  {
   "cell_type": "code",
   "execution_count": 71,
   "metadata": {},
   "outputs": [
    {
     "name": "stdout",
     "output_type": "stream",
     "text": [
      "[[   0    0    0   28    0    0    0    7    3    0    0]\n",
      " [   0  154   14   14    0    0    0   18   40    0    0]\n",
      " [   0    2 1000    0    0    0    0    0    0    0    0]\n",
      " [   0    7    0  304    0    0    0   80   16    0    0]\n",
      " [   0    1    0    2    1    0    0   19    0    0    0]\n",
      " [   0    7    0    0    0    0    0    0   50    0    0]\n",
      " [   0    0    1    0    0    0    0    0    0    0    0]\n",
      " [   0   14    0   87    1    0    0  647    0    0    0]\n",
      " [   0   25    0    0    0    0    0    0 1296    0    0]\n",
      " [   0    0    2    0    0    0    0    0    0    2    0]\n",
      " [   0    0    0    2    0    0    0    3    2    0    0]]\n"
     ]
    },
    {
     "data": {
      "text/plain": [
       "0.8843855546895297"
      ]
     },
     "execution_count": 71,
     "metadata": {},
     "output_type": "execute_result"
    }
   ],
   "source": [
    "\n",
    "cm = confusion_matrix(Y_test, svmprediction)\n",
    "print(cm)\n",
    "accuracy_score(Y_test,svmprediction)"
   ]
  },
  {
   "cell_type": "code",
   "execution_count": 72,
   "metadata": {},
   "outputs": [
    {
     "name": "stderr",
     "output_type": "stream",
     "text": [
      "C:\\Users\\niyan\\anaconda3\\envs\\cv\\lib\\site-packages\\tensorflow\\python\\framework\\dtypes.py:523: FutureWarning: Passing (type, 1) or '1type' as a synonym of type is deprecated; in a future version of numpy, it will be understood as (type, (1,)) / '(1,)type'.\n",
      "  _np_qint8 = np.dtype([(\"qint8\", np.int8, 1)])\n",
      "C:\\Users\\niyan\\anaconda3\\envs\\cv\\lib\\site-packages\\tensorflow\\python\\framework\\dtypes.py:524: FutureWarning: Passing (type, 1) or '1type' as a synonym of type is deprecated; in a future version of numpy, it will be understood as (type, (1,)) / '(1,)type'.\n",
      "  _np_quint8 = np.dtype([(\"quint8\", np.uint8, 1)])\n",
      "C:\\Users\\niyan\\anaconda3\\envs\\cv\\lib\\site-packages\\tensorflow\\python\\framework\\dtypes.py:525: FutureWarning: Passing (type, 1) or '1type' as a synonym of type is deprecated; in a future version of numpy, it will be understood as (type, (1,)) / '(1,)type'.\n",
      "  _np_qint16 = np.dtype([(\"qint16\", np.int16, 1)])\n",
      "C:\\Users\\niyan\\anaconda3\\envs\\cv\\lib\\site-packages\\tensorflow\\python\\framework\\dtypes.py:526: FutureWarning: Passing (type, 1) or '1type' as a synonym of type is deprecated; in a future version of numpy, it will be understood as (type, (1,)) / '(1,)type'.\n",
      "  _np_quint16 = np.dtype([(\"quint16\", np.uint16, 1)])\n",
      "C:\\Users\\niyan\\anaconda3\\envs\\cv\\lib\\site-packages\\tensorflow\\python\\framework\\dtypes.py:527: FutureWarning: Passing (type, 1) or '1type' as a synonym of type is deprecated; in a future version of numpy, it will be understood as (type, (1,)) / '(1,)type'.\n",
      "  _np_qint32 = np.dtype([(\"qint32\", np.int32, 1)])\n",
      "C:\\Users\\niyan\\anaconda3\\envs\\cv\\lib\\site-packages\\tensorflow\\python\\framework\\dtypes.py:532: FutureWarning: Passing (type, 1) or '1type' as a synonym of type is deprecated; in a future version of numpy, it will be understood as (type, (1,)) / '(1,)type'.\n",
      "  np_resource = np.dtype([(\"resource\", np.ubyte, 1)])\n"
     ]
    }
   ],
   "source": [
    "import tensorflow as tf\n",
    "Y_test=np.array(Y_test)"
   ]
  },
  {
   "cell_type": "code",
   "execution_count": 73,
   "metadata": {},
   "outputs": [
    {
     "data": {
      "text/plain": [
       "array([' DB', ' EX', ' HU', ' LO', ' SD', ' SS', ' ST', ' TD', ' TS',\n",
       "       ' TY', ' WV'], dtype=object)"
      ]
     },
     "execution_count": 73,
     "metadata": {},
     "output_type": "execute_result"
    }
   ],
   "source": [
    "np.unique(Y_test)"
   ]
  },
  {
   "cell_type": "code",
   "execution_count": null,
   "metadata": {},
   "outputs": [],
   "source": []
  },
  {
   "cell_type": "code",
   "execution_count": null,
   "metadata": {},
   "outputs": [],
   "source": []
  }
 ],
 "metadata": {
  "kernelspec": {
   "display_name": "Python 3",
   "language": "python",
   "name": "python3"
  },
  "language_info": {
   "codemirror_mode": {
    "name": "ipython",
    "version": 3
   },
   "file_extension": ".py",
   "mimetype": "text/x-python",
   "name": "python",
   "nbconvert_exporter": "python",
   "pygments_lexer": "ipython3",
   "version": "3.6.6"
  }
 },
 "nbformat": 4,
 "nbformat_minor": 2
}
